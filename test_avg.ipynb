{
 "cells": [
  {
   "cell_type": "code",
   "execution_count": 9,
   "metadata": {},
   "outputs": [],
   "source": [
    "# -------------- #\n",
    "\n",
    "import pandas as pd\n",
    "import os\n",
    "import datetime\n",
    "from datetime import date\n",
    "import math\n",
    "\n",
    "import load_data\n",
    "# from featureEng import (\n",
    "# )\n",
    "# from models import grid_search\n",
    "from config import (\n",
    "    RAW_DATA_DIR,\n",
    "    LAG_DICT,\n",
    "    SLIDING_DICT\n",
    ")\n",
    "from models.baseline_avg_model import AvgModel\n",
    "from sklearn.metrics import r2_score, mean_squared_error\n",
    "\n",
    "import mlflow\n",
    "import numpy as np\n",
    "import mlflow.sklearn\n",
    "\n",
    "# valid period. '2017-07-31' to '2017-08-16'\n",
    "SPLIT_DATE = datetime.date(2017,7, 31)\n",
    "\n",
    "def train_valid_split(df):\n",
    "    valid_start = date(2017, 7, 26)\n",
    "    valid_end = date(2017, 8, 10)\n",
    "    \n",
    "    valid_df = df[df['date']>=valid_start]\n",
    "    valid_df = valid_df[valid_df['date']<valid_end]\n",
    "    \n",
    "    train_df = df[df['date']<valid_start]\n",
    "    return train_df, valid_df"
   ]
  },
  {
   "cell_type": "code",
   "execution_count": 3,
   "metadata": {},
   "outputs": [],
   "source": [
    "def add_weekday(df):\n",
    "    df['weekday'] = df['date'].dt.weekday\n",
    "    return df"
   ]
  },
  {
   "cell_type": "code",
   "execution_count": 8,
   "metadata": {},
   "outputs": [
    {
     "name": "stderr",
     "output_type": "stream",
     "text": [
      "/Users/liuyu/anaconda3/lib/python3.7/site-packages/ipykernel_launcher.py:3: FutureWarning: Comparing Series of datetimes with 'datetime.date'.  Currently, the\n",
      "'datetime.date' is coerced to a datetime. In the future pandas will\n",
      "not coerce, and a TypeError will be raised. To retain the current\n",
      "behavior, convert the 'datetime.date' to a datetime with\n",
      "'pd.Timestamp'.\n",
      "  This is separate from the ipykernel package so we can avoid doing imports until\n"
     ]
    },
    {
     "ename": "NameError",
     "evalue": "name 'date' is not defined",
     "output_type": "error",
     "traceback": [
      "\u001b[0;31m---------------------------------------------------------------------------\u001b[0m",
      "\u001b[0;31mNameError\u001b[0m                                 Traceback (most recent call last)",
      "\u001b[0;32m<ipython-input-8-9716c411773a>\u001b[0m in \u001b[0;36m<module>\u001b[0;34m\u001b[0m\n\u001b[1;32m      3\u001b[0m \u001b[0mtrain_df\u001b[0m \u001b[0;34m=\u001b[0m \u001b[0mtrain_df\u001b[0m\u001b[0;34m[\u001b[0m\u001b[0mtrain_df\u001b[0m\u001b[0;34m[\u001b[0m\u001b[0;34m'date'\u001b[0m\u001b[0;34m]\u001b[0m\u001b[0;34m>=\u001b[0m\u001b[0mdatetime\u001b[0m\u001b[0;34m.\u001b[0m\u001b[0mdate\u001b[0m\u001b[0;34m(\u001b[0m\u001b[0;36m2017\u001b[0m\u001b[0;34m,\u001b[0m \u001b[0;36m5\u001b[0m\u001b[0;34m,\u001b[0m \u001b[0;36m1\u001b[0m\u001b[0;34m)\u001b[0m\u001b[0;34m]\u001b[0m\u001b[0;34m\u001b[0m\u001b[0;34m\u001b[0m\u001b[0m\n\u001b[1;32m      4\u001b[0m \u001b[0;34m\u001b[0m\u001b[0m\n\u001b[0;32m----> 5\u001b[0;31m \u001b[0mtrain_df\u001b[0m\u001b[0;34m,\u001b[0m \u001b[0mvalid_df\u001b[0m \u001b[0;34m=\u001b[0m \u001b[0mtrain_valid_split\u001b[0m\u001b[0;34m(\u001b[0m\u001b[0mtrain_df\u001b[0m\u001b[0;34m)\u001b[0m\u001b[0;34m\u001b[0m\u001b[0;34m\u001b[0m\u001b[0m\n\u001b[0m\u001b[1;32m      6\u001b[0m \u001b[0mtrain_df\u001b[0m \u001b[0;34m=\u001b[0m \u001b[0madd_weekday\u001b[0m\u001b[0;34m(\u001b[0m\u001b[0mtrain_df\u001b[0m\u001b[0;34m)\u001b[0m\u001b[0;34m\u001b[0m\u001b[0;34m\u001b[0m\u001b[0m\n\u001b[1;32m      7\u001b[0m \u001b[0mvalid_df\u001b[0m \u001b[0;34m=\u001b[0m \u001b[0madd_weekday\u001b[0m\u001b[0;34m(\u001b[0m\u001b[0mvalid_df\u001b[0m\u001b[0;34m)\u001b[0m\u001b[0;34m\u001b[0m\u001b[0;34m\u001b[0m\u001b[0m\n",
      "\u001b[0;32m<ipython-input-7-1c1e82f02c9c>\u001b[0m in \u001b[0;36mtrain_valid_split\u001b[0;34m(df)\u001b[0m\n\u001b[1;32m     26\u001b[0m \u001b[0;34m\u001b[0m\u001b[0m\n\u001b[1;32m     27\u001b[0m \u001b[0;32mdef\u001b[0m \u001b[0mtrain_valid_split\u001b[0m\u001b[0;34m(\u001b[0m\u001b[0mdf\u001b[0m\u001b[0;34m)\u001b[0m\u001b[0;34m:\u001b[0m\u001b[0;34m\u001b[0m\u001b[0;34m\u001b[0m\u001b[0m\n\u001b[0;32m---> 28\u001b[0;31m     \u001b[0mvalid_start\u001b[0m \u001b[0;34m=\u001b[0m \u001b[0mdate\u001b[0m\u001b[0;34m(\u001b[0m\u001b[0;36m2017\u001b[0m\u001b[0;34m,\u001b[0m \u001b[0;36m7\u001b[0m\u001b[0;34m,\u001b[0m \u001b[0;36m26\u001b[0m\u001b[0;34m)\u001b[0m\u001b[0;34m\u001b[0m\u001b[0;34m\u001b[0m\u001b[0m\n\u001b[0m\u001b[1;32m     29\u001b[0m     \u001b[0mvalid_end\u001b[0m \u001b[0;34m=\u001b[0m \u001b[0mdate\u001b[0m\u001b[0;34m(\u001b[0m\u001b[0;36m2017\u001b[0m\u001b[0;34m,\u001b[0m \u001b[0;36m8\u001b[0m\u001b[0;34m,\u001b[0m \u001b[0;36m10\u001b[0m\u001b[0;34m)\u001b[0m\u001b[0;34m\u001b[0m\u001b[0;34m\u001b[0m\u001b[0m\n\u001b[1;32m     30\u001b[0m \u001b[0;34m\u001b[0m\u001b[0m\n",
      "\u001b[0;31mNameError\u001b[0m: name 'date' is not defined"
     ]
    }
   ],
   "source": [
    "train_df, test_df = load_data.main()\n",
    "train_df = train_df.dropna()\n",
    "train_df = train_df[train_df['date']>=datetime.date(2017, 5, 1)]\n"
   ]
  },
  {
   "cell_type": "code",
   "execution_count": 10,
   "metadata": {},
   "outputs": [
    {
     "name": "stderr",
     "output_type": "stream",
     "text": [
      "/Users/liuyu/anaconda3/lib/python3.7/site-packages/ipykernel_launcher.py:32: FutureWarning: Comparing Series of datetimes with 'datetime.date'.  Currently, the\n",
      "'datetime.date' is coerced to a datetime. In the future pandas will\n",
      "not coerce, and a TypeError will be raised. To retain the current\n",
      "behavior, convert the 'datetime.date' to a datetime with\n",
      "'pd.Timestamp'.\n",
      "/Users/liuyu/anaconda3/lib/python3.7/site-packages/ipykernel_launcher.py:33: FutureWarning: Comparing Series of datetimes with 'datetime.date'.  Currently, the\n",
      "'datetime.date' is coerced to a datetime. In the future pandas will\n",
      "not coerce, and a TypeError will be raised. To retain the current\n",
      "behavior, convert the 'datetime.date' to a datetime with\n",
      "'pd.Timestamp'.\n",
      "/Users/liuyu/anaconda3/lib/python3.7/site-packages/ipykernel_launcher.py:35: FutureWarning: Comparing Series of datetimes with 'datetime.date'.  Currently, the\n",
      "'datetime.date' is coerced to a datetime. In the future pandas will\n",
      "not coerce, and a TypeError will be raised. To retain the current\n",
      "behavior, convert the 'datetime.date' to a datetime with\n",
      "'pd.Timestamp'.\n",
      "/Users/liuyu/anaconda3/lib/python3.7/site-packages/ipykernel_launcher.py:2: SettingWithCopyWarning: \n",
      "A value is trying to be set on a copy of a slice from a DataFrame.\n",
      "Try using .loc[row_indexer,col_indexer] = value instead\n",
      "\n",
      "See the caveats in the documentation: http://pandas.pydata.org/pandas-docs/stable/indexing.html#indexing-view-versus-copy\n",
      "  \n"
     ]
    }
   ],
   "source": [
    "train_df, valid_df = train_valid_split(train_df)\n",
    "train_df = add_weekday(train_df)\n",
    "valid_df = add_weekday(valid_df)"
   ]
  },
  {
   "cell_type": "code",
   "execution_count": 11,
   "metadata": {},
   "outputs": [],
   "source": [
    "class AvgModel(object):\n",
    "    def __init__(\n",
    "                self, \n",
    "                label,\n",
    "                train_days):\n",
    "        self.label = label \n",
    "        self.train_days = train_days\n",
    "        return\n",
    "\n",
    "    def averaging_by_weekday(\n",
    "                            self, \n",
    "                            df_item, \n",
    "                            column):\n",
    "        \"\"\"\n",
    "        \n",
    "        \"\"\"\n",
    "        result = {}\n",
    "        for k in range(7):\n",
    "            chunk = df_item[df_item['weekday'] == k]\n",
    "            if self.train_days > 0:\n",
    "                start_date = chunk['date'].iloc[-1] - \\\n",
    "                    pd.Timedelta(days=self.train_days)\n",
    "                chunk = chunk[chunk['date'] >= start_date]\n",
    "                # print(chunk)\n",
    "            result[k] = chunk[column].mean()\n",
    "        return result\n",
    "\n",
    "    def fit(self, df):\n",
    "        self.model = {}\n",
    "        self.model_item = {}\n",
    "        store_list = df['store_nbr'].unique()\n",
    "        for store_id in store_list:\n",
    "            df_store = df[df['store_nbr'] == store_id]\n",
    "            item_list = df_store.item_nbr.unique()\n",
    "            self.model[store_id] = {}\n",
    "            for item_id in item_list:\n",
    "                df_item = df_store[df_store['item_nbr'] == item_id]\n",
    "                result =  self.averaging_by_weekday(df_item, self.label)\n",
    "                self.model[store_id][item_id] = result\n",
    "                if item_id not in self.model_item:\n",
    "                    pass\n",
    "                else:\n",
    "                    o_r = self.model_item[item_id]\n",
    "                    for k in range(7):\n",
    "                        result[k] = (result[k]+o_r[k])/2\n",
    "                self.model_item[item_id] = result\n",
    "        return\n",
    "\n",
    "    def predict(self, valid_df):\n",
    "        def create_fn(row):\n",
    "            try:\n",
    "                return self.model[row['store_nbr']][row['item_nbr']][row['weekday']]\n",
    "            except:\n",
    "                try:\n",
    "                    return self.model_item[row['item_nbr']][row['weekday']]\n",
    "                except:\n",
    "                    return 0\n",
    "        pred = valid_df.apply(create_fn, axis=1)\n",
    "        return pred"
   ]
  },
  {
   "cell_type": "code",
   "execution_count": 23,
   "metadata": {},
   "outputs": [
    {
     "name": "stdout",
     "output_type": "stream",
     "text": [
      "INFO: 'grocery forecasting' does not exist. Creating a new experiment\n"
     ]
    }
   ],
   "source": [
    "mlflow.set_experiment('grocery forecasting')\n",
    "with mlflow.start_run(run_name='avg_model'):\n",
    "    mlflow.log_param('model', 'avg_model')\n",
    "#     avg_model = AvgModel(label='unit_sales',\n",
    "#                         train_days=-1)\n",
    "#     avg_model.fit(train_df)\n",
    "#     _pred = avg_model.predict(valid_df)\n",
    "    mse = mean_squared_error(valid_df['unit_sales'].values, _pred.fillna(0))\n",
    "    mlflow.log_metric('mse', mse)"
   ]
  },
  {
   "cell_type": "code",
   "execution_count": null,
   "metadata": {},
   "outputs": [],
   "source": []
  }
 ],
 "metadata": {
  "kernelspec": {
   "display_name": "Python 3",
   "language": "python",
   "name": "python3"
  },
  "language_info": {
   "codemirror_mode": {
    "name": "ipython",
    "version": 3
   },
   "file_extension": ".py",
   "mimetype": "text/x-python",
   "name": "python",
   "nbconvert_exporter": "python",
   "pygments_lexer": "ipython3",
   "version": "3.6.9"
  }
 },
 "nbformat": 4,
 "nbformat_minor": 4
}
