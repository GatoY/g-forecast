{
 "cells": [
  {
   "cell_type": "code",
   "execution_count": 2,
   "metadata": {},
   "outputs": [
    {
     "name": "stderr",
     "output_type": "stream",
     "text": [
      "/Users/liuyu/Desktop/g-forecast/config.py:8: YAMLLoadWarning: calling yaml.load() without Loader=... is deprecated, as the default Loader is unsafe. Please read https://msg.pyyaml.org/load for full details.\n",
      "  config = yaml.load(f)\n"
     ]
    },
    {
     "name": "stdout",
     "output_type": "stream",
     "text": [
      "-------------------------------------------------------------\n",
      "configurations: \n",
      "{\n",
      "  \"storeId\": null,\n",
      "  \"influence_sheet\": \"\",\n",
      "  \"influence_min\": 0,\n",
      "  \"influence_max\": 0,\n",
      "  \"predict_start_date\": \"2019-06-23\",\n",
      "  \"predict_length\": 35,\n",
      "  \"lag_length\": 50,\n",
      "  \"lag_cols\": [\n",
      "    \"Sales\"\n",
      "  ],\n",
      "  \"sliding_window_length\": 50,\n",
      "  \"sliding_cols\": [\n",
      "    \"Sales\"\n",
      "  ],\n",
      "  \"model_list\": [\n",
      "    \"LGBMRegressor\"\n",
      "  ],\n",
      "  \"peak_period\": [\n",
      "    \"2017-12-08\",\n",
      "    \"2018-02-08\",\n",
      "    \"2018-12-10\",\n",
      "    \"2019-02-10\"\n",
      "  ]\n",
      "}\n",
      "-------------------------------------------------------------\n"
     ]
    }
   ],
   "source": [
    "# -------------- #\n",
    "\n",
    "import pandas as pd\n",
    "import os\n",
    "import datetime\n",
    "import math\n",
    "\n",
    "import load_data\n",
    "from util_log import logger\n",
    "# from featureEng import (\n",
    "# )\n",
    "# from models import grid_search\n",
    "from config import (\n",
    "    RAW_DATA_DIR,\n",
    "    LAG_DICT,\n",
    "    SLIDING_DICT\n",
    ")\n",
    "from models.baseline_avg_model import AvgModel\n",
    "from sklearn.metrics import r2_score, mean_squared_error\n",
    "\n",
    "import mlflow\n",
    "import numpy as np\n",
    "import mlflow.sklearn\n",
    "\n",
    "# valid period. '2017-07-31' to '2017-08-16'\n",
    "SPLIT_DATE = datetime.date(2017,7, 31)\n",
    "\n",
    "def train_valid_split(df):\n",
    "    train_df = df[df['date']<SPLIT_DATE]\n",
    "    valid_df = df[df['date']>=SPLIT_DATE]\n",
    "    return train_df, valid_df"
   ]
  },
  {
   "cell_type": "code",
   "execution_count": 1,
   "metadata": {},
   "outputs": [],
   "source": [
    "def add_weekday(df):\n",
    "    df['weekday'] = df['date'].dt.weekday\n",
    "    return df"
   ]
  },
  {
   "cell_type": "code",
   "execution_count": 3,
   "metadata": {},
   "outputs": [
    {
     "name": "stderr",
     "output_type": "stream",
     "text": [
      "Get raw data\n",
      "/Users/liuyu/anaconda3/lib/python3.7/site-packages/ipykernel_launcher.py:8: FutureWarning: Comparing Series of datetimes with 'datetime.date'.  Currently, the\n",
      "'datetime.date' is coerced to a datetime. In the future pandas will\n",
      "not coerce, and a TypeError will be raised. To retain the current\n",
      "behavior, convert the 'datetime.date' to a datetime with\n",
      "'pd.Timestamp'.\n",
      "  \n",
      "Train valid split\n",
      "/Users/liuyu/anaconda3/lib/python3.7/site-packages/ipykernel_launcher.py:29: FutureWarning: Comparing Series of datetimes with 'datetime.date'.  Currently, the\n",
      "'datetime.date' is coerced to a datetime. In the future pandas will\n",
      "not coerce, and a TypeError will be raised. To retain the current\n",
      "behavior, convert the 'datetime.date' to a datetime with\n",
      "'pd.Timestamp'.\n",
      "/Users/liuyu/anaconda3/lib/python3.7/site-packages/ipykernel_launcher.py:30: FutureWarning: Comparing Series of datetimes with 'datetime.date'.  Currently, the\n",
      "'datetime.date' is coerced to a datetime. In the future pandas will\n",
      "not coerce, and a TypeError will be raised. To retain the current\n",
      "behavior, convert the 'datetime.date' to a datetime with\n",
      "'pd.Timestamp'.\n",
      "Add weekday\n"
     ]
    }
   ],
   "source": [
    "logger.debug('Get raw data')\n",
    "train_df, test_df = load_data.main()\n",
    "\n",
    "# store_list = train_df.store_nbr.unique()[2:7]\n",
    "# train_df = train_df[train_df['store_nbr'].isin(store_list)]\n",
    "train_df = train_df.dropna()\n",
    "\n",
    "train_df = train_df[train_df['date']>=datetime.date(2017, 7, 1)]\n",
    "logger.debug('Train valid split')\n",
    "train_df, valid_df = train_valid_split(train_df)\n",
    "\n",
    "logger.debug('Add weekday')\n",
    "train_df = add_weekday(train_df)\n",
    "valid_df = add_weekday(valid_df)"
   ]
  },
  {
   "cell_type": "code",
   "execution_count": 4,
   "metadata": {},
   "outputs": [],
   "source": [
    "# from config import (\n",
    "#     SPLIT_DATE\n",
    "# )\n",
    "\n",
    "# %%\n",
    "class AvgModel(object):\n",
    "    def __init__(\n",
    "                self, \n",
    "                label,\n",
    "                train_days):\n",
    "        self.label = label \n",
    "        self.train_days = train_days\n",
    "        return\n",
    "\n",
    "    def averaging_by_weekday(\n",
    "                            self, \n",
    "                            df_item, \n",
    "                            column):\n",
    "        \"\"\"\n",
    "        \n",
    "        \"\"\"\n",
    "        result = {}\n",
    "        for k in range(7):\n",
    "            chunk = df_item[df_item['weekday'] == k]\n",
    "            if self.train_days > 0:\n",
    "                start_date = chunk['date'].iloc[-1] - \\\n",
    "                    pd.Timedelta(days=self.train_days)\n",
    "                chunk = chunk[chunk['date'] >= start_date]\n",
    "                # print(chunk)\n",
    "            result[k] = chunk[column].mean()\n",
    "        return result\n",
    "\n",
    "    def fit(self, df):\n",
    "        self.model = {}\n",
    "        self.model_item = {}\n",
    "        store_list = df['store_nbr'].unique()\n",
    "        for store_id in store_list:\n",
    "            df_store = df[df['store_nbr'] == store_id]\n",
    "            item_list = df_store.item_nbr.unique()\n",
    "            self.model[store_id] = {}\n",
    "            for item_id in item_list:\n",
    "                df_item = df_store[df_store['item_nbr'] == item_id]\n",
    "                result =  self.averaging_by_weekday(df_item, self.label)\n",
    "                self.model[store_id][item_id] = result\n",
    "                if item_id not in self.model_item:\n",
    "                    pass\n",
    "                else:\n",
    "                    o_r = self.model_item[item_id]\n",
    "                    for k in range(7):\n",
    "                        result[k] = (result[k]+o_r[k])/2\n",
    "                self.model_item[item_id] = result\n",
    "        return\n",
    "\n",
    "    def predict(self, valid_df):\n",
    "        def create_fn(row):\n",
    "            try:\n",
    "                return self.model[row['store_nbr']][row['item_nbr']][row['weekday']]\n",
    "            except:\n",
    "                try:\n",
    "                    return self.model_item[row['item_nbr']][row['weekday']]\n",
    "                except:\n",
    "                    return 0\n",
    "        pred = valid_df.apply(create_fn, axis=1)\n",
    "        return pred"
   ]
  },
  {
   "cell_type": "code",
   "execution_count": 5,
   "metadata": {},
   "outputs": [],
   "source": [
    "avg_model = AvgModel(label='unit_sales',\n",
    "                    train_days=-1)\n",
    "avg_model.fit(train_df)\n",
    "_pred = avg_model.predict(valid_df)\n",
    "_pred=_pred.fillna(0)\n",
    "true=valid_df['unit_sales'].values\n",
    "pred = _pred.values\n",
    "_score = mean_squared_error(true, pred)"
   ]
  },
  {
   "cell_type": "code",
   "execution_count": 7,
   "metadata": {},
   "outputs": [
    {
     "data": {
      "text/plain": [
       "416.22662279519153"
      ]
     },
     "execution_count": 7,
     "metadata": {},
     "output_type": "execute_result"
    }
   ],
   "source": [
    "_score"
   ]
  },
  {
   "cell_type": "code",
   "execution_count": null,
   "metadata": {},
   "outputs": [],
   "source": [
    "mlflow.set_experiment(model_used)\n",
    "with mlflow.start_run(run_name=model_used):\n",
    "    mlflow.log_param('model', model_used)\n",
    "\n",
    "    if model_used == 'avg':\n",
    "        avg_model = AvgModel(label='unit_sales',\n",
    "                            train_days=-1)\n",
    "        avg_model.fit(train_df)\n",
    "        _pred = avg_model.predict(valid_df)\n",
    "        _score = r2_score(valid_df['unit_sales'].values, _pred)\n",
    "        mlflow.log_param('train_days', 16)\n",
    "\n",
    "    mlflow.log_metric('r2_score', score)\n",
    "\n",
    "\n"
   ]
  }
 ],
 "metadata": {
  "kernelspec": {
   "display_name": "Python 3",
   "language": "python",
   "name": "python3"
  },
  "language_info": {
   "codemirror_mode": {
    "name": "ipython",
    "version": 3
   },
   "file_extension": ".py",
   "mimetype": "text/x-python",
   "name": "python",
   "nbconvert_exporter": "python",
   "pygments_lexer": "ipython3",
   "version": "3.7.3"
  }
 },
 "nbformat": 4,
 "nbformat_minor": 2
}
