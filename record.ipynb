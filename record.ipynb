{
 "cells": [
  {
   "cell_type": "markdown",
   "metadata": {},
   "source": [
    "## Steps\n",
    "\n",
    "1. \n",
    "\n",
    "In test.csv, it tries to ask us to predict new items. \n",
    "\n",
    "So we train 2 separate models: one for old items. One for new items.\n",
    "\n",
    "60/3901 (1.5%) new items. \n",
    "\n",
    "Considering of time, I will not build the model for new items.\n",
    "\n",
    "But the mthod is,\n",
    "\n",
    "\n",
    "2. \n",
    "\n",
    "Autocorrelation. Lagging features is important\n",
    "\n",
    "3. \n",
    "\n",
    "NOTICE: Items marked as perishable have a score weight of 1.25; otherwise, the weight is 1.0\n",
    "\n",
    "4. \n",
    "\n"
   ]
  },
  {
   "cell_type": "markdown",
   "metadata": {},
   "source": [
    "## TODO\n",
    "\n",
    "- RUN baseline avg model\n",
    "\n",
    "- Get lag features. From 2017-01-01\n",
    "- RUN \n",
    "  - LGBM on pure lagging features for old items\n",
    "  - LGBM for new items\n",
    "\n",
    "- Add"
   ]
  },
  {
   "cell_type": "code",
   "execution_count": null,
   "metadata": {},
   "outputs": [],
   "source": []
  }
 ],
 "metadata": {
  "kernelspec": {
   "display_name": "Python 3",
   "language": "python",
   "name": "python3"
  },
  "language_info": {
   "codemirror_mode": {
    "name": "ipython",
    "version": 3
   },
   "file_extension": ".py",
   "mimetype": "text/x-python",
   "name": "python",
   "nbconvert_exporter": "python",
   "pygments_lexer": "ipython3",
   "version": "3.7.3"
  }
 },
 "nbformat": 4,
 "nbformat_minor": 2
}
