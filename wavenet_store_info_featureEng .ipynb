{
 "cells": [
  {
   "cell_type": "markdown",
   "metadata": {},
   "source": [
    "## memory_profiler"
   ]
  },
  {
   "cell_type": "code",
   "execution_count": 1,
   "metadata": {},
   "outputs": [],
   "source": [
    "from datetime import date, timedelta\n",
    "import datetime\n",
    "import pandas as pd\n",
    "import numpy as np\n",
    "from tqdm import tqdm, tnrange\n",
    "\n",
    "from sklearn.metrics import mean_squared_error\n",
    "from sklearn.preprocessing import StandardScaler\n",
    "import lightgbm as lgb\n",
    "\n",
    "import mlflow\n",
    "import mlflow.sklearn\n",
    "\n",
    "from config import (\n",
    "    RAW_DATA_DIR,\n",
    "    FEATURE_DIR,\n",
    "    LAG_DICT,\n",
    "    SLIDING_DICT\n",
    ")"
   ]
  },
  {
   "cell_type": "code",
   "execution_count": 2,
   "metadata": {},
   "outputs": [],
   "source": [
    "# solve lightgbm error on MAC\n",
    "import os\n",
    "os.environ['KMP_DUPLICATE_LIB_OK']='True'"
   ]
  },
  {
   "cell_type": "code",
   "execution_count": 3,
   "metadata": {},
   "outputs": [],
   "source": [
    "# load data\n",
    "df_train = pd.read_csv(\n",
    "    RAW_DATA_DIR+'train.csv', usecols=[1, 2, 3, 4, 5],\n",
    "    dtype={'onpromotion': bool},\n",
    "    converters={'unit_sales': lambda u: np.log1p(\n",
    "        float(u)) if float(u) > 0 else 0},\n",
    "    parse_dates=[\"date\"],\n",
    "    skiprows=range(1, 66458909)  # 2016-01-01\n",
    ")\n",
    "\n",
    "df_test = pd.read_csv(\n",
    "    RAW_DATA_DIR+'test.csv', usecols=[0, 1, 2, 3, 4],\n",
    "    dtype={'onpromotion': bool},\n",
    "    parse_dates=[\"date\"]  # , date_parser=parser\n",
    ").set_index(\n",
    "    ['store_nbr', 'item_nbr', 'date']\n",
    ")\n",
    "\n",
    "items = pd.read_csv(\n",
    "    RAW_DATA_DIR+'items.csv',\n",
    ").set_index(\"item_nbr\")\n",
    "\n",
    "stores = pd.read_csv(\n",
    "    RAW_DATA_DIR+'stores.csv',\n",
    ").set_index(\"store_nbr\")"
   ]
  },
  {
   "cell_type": "markdown",
   "metadata": {},
   "source": [
    "### Test Period\n",
    "\n",
    "2017-08-16 to 2017-08-31"
   ]
  },
  {
   "cell_type": "code",
   "execution_count": 4,
   "metadata": {},
   "outputs": [],
   "source": [
    "test_start = date(2017, 8, 16)\n",
    "test_end = date(2017,8, 31)"
   ]
  },
  {
   "cell_type": "code",
   "execution_count": 5,
   "metadata": {},
   "outputs": [
    {
     "name": "stdout",
     "output_type": "stream",
     "text": [
      "valid starts from 2017-07-26 to 2017-08-10\n"
     ]
    }
   ],
   "source": [
    "valid_start = test_start - timedelta(16)\n",
    "while(1):\n",
    "    if valid_start.weekday() == test_start.weekday():\n",
    "        break\n",
    "    valid_start = valid_start-timedelta(days=1)\n",
    "valid_end = valid_start + timedelta(15)\n",
    "print('valid starts from {} to {}'.format(valid_start, valid_end))"
   ]
  },
  {
   "cell_type": "markdown",
   "metadata": {},
   "source": [
    "### Valid Period\n",
    "\n",
    "Considering the more nearer peiods of sales data may have more in common, it would be better to find the nearest period as valid period.\n",
    "\n",
    "Based on the analysis before, we assume the sales data is periodically with the frequency of 7 days, so we want to keep that feature same\n",
    "in the train, valid and test period.\n",
    "\n",
    "So finally, we choose valid period:\n",
    "\n",
    "2017-07-26 to 2017-08-10\n"
   ]
  },
  {
   "cell_type": "code",
   "execution_count": 6,
   "metadata": {},
   "outputs": [],
   "source": [
    "valid_start = date(2017, 7, 26)\n",
    "valid_end = date(2017, 8, 10)"
   ]
  },
  {
   "cell_type": "markdown",
   "metadata": {},
   "source": [
    "### Filter Period\n",
    "\n",
    "#### Earthquake happended on April 16, 2016. It may affect for the next several weeks."
   ]
  },
  {
   "cell_type": "code",
   "execution_count": 7,
   "metadata": {},
   "outputs": [
    {
     "name": "stdout",
     "output_type": "stream",
     "text": [
      "train datasets starts from 2016-10-05\n"
     ]
    }
   ],
   "source": [
    "# filter the period which is affected by earthquake.\n",
    "filter_date = date(2016,4,16) + timedelta(7*4)\n",
    "lag_max = 140\n",
    "train_start=  filter_date+timedelta(days=lag_max)\n",
    "\n",
    "while(1):\n",
    "    train_start = train_start + timedelta(1)\n",
    "    if train_start.weekday() == valid_start.weekday():\n",
    "        break\n",
    "print('train datasets starts from {}'.format(train_start))"
   ]
  },
  {
   "cell_type": "code",
   "execution_count": 8,
   "metadata": {},
   "outputs": [],
   "source": [
    "train_start = date(2017, 4, 5)"
   ]
  },
  {
   "cell_type": "markdown",
   "metadata": {},
   "source": [
    "### Wages in the public sector are paid every two weeks on the 15 th and on the last day of the month. Supermarket sales could be affected by this.\n"
   ]
  },
  {
   "cell_type": "code",
   "execution_count": 9,
   "metadata": {},
   "outputs": [
    {
     "name": "stderr",
     "output_type": "stream",
     "text": [
      "/home/y/.pyenv/versions/anaconda3-5.2.0/lib/python3.6/site-packages/ipykernel_launcher.py:1: FutureWarning: Comparing Series of datetimes with 'datetime.date'.  Currently, the\n",
      "'datetime.date' is coerced to a datetime. In the future pandas will\n",
      "not coerce, and a TypeError will be raised. To retain the current\n",
      "behavior, convert the 'datetime.date' to a datetime with\n",
      "'pd.Timestamp'.\n",
      "  \"\"\"Entry point for launching an IPython kernel.\n"
     ]
    }
   ],
   "source": [
    "df_train = df_train[df_train['date']>=filter_date]"
   ]
  },
  {
   "cell_type": "markdown",
   "metadata": {},
   "source": [
    "#### Promo feature"
   ]
  },
  {
   "cell_type": "code",
   "execution_count": 10,
   "metadata": {},
   "outputs": [],
   "source": [
    "promo_train = df_train.set_index(\n",
    "    [\"store_nbr\", \"item_nbr\", \"date\"])[[\"onpromotion\"]]\n",
    "\n",
    "# missing onpromotions filling\n",
    "promo_train = promo_train.unstack(level=-1).fillna(False)\n",
    "promo_train.columns = promo_train.columns.get_level_values(1)"
   ]
  },
  {
   "cell_type": "code",
   "execution_count": 11,
   "metadata": {},
   "outputs": [],
   "source": [
    "# missing test onpromotions filling\n",
    "promo_test = df_test[[\"onpromotion\"]].unstack(level=-1).fillna(False)\n",
    "promo_test.columns = promo_test.columns.get_level_values(1)\n",
    "# filter those items/stores in promo_test but not in promo_train\n",
    "promo_test = promo_test.reindex(promo_train.index).fillna(False)"
   ]
  },
  {
   "cell_type": "code",
   "execution_count": 12,
   "metadata": {},
   "outputs": [],
   "source": [
    "promo_features = pd.concat([promo_train, promo_test], axis=1)\n",
    "del promo_test, promo_train"
   ]
  },
  {
   "cell_type": "markdown",
   "metadata": {},
   "source": [
    "## Label"
   ]
  },
  {
   "cell_type": "code",
   "execution_count": 13,
   "metadata": {},
   "outputs": [],
   "source": [
    "# label\n",
    "df_train = df_train.set_index([\"store_nbr\", \"item_nbr\", \"date\"])[[\"unit_sales\"]].unstack(level=-1).fillna(0)"
   ]
  },
  {
   "cell_type": "markdown",
   "metadata": {},
   "source": [
    "### Item"
   ]
  },
  {
   "cell_type": "code",
   "execution_count": 14,
   "metadata": {},
   "outputs": [],
   "source": [
    "items = items.reindex(df_train.index.get_level_values(1))"
   ]
  },
  {
   "cell_type": "markdown",
   "metadata": {},
   "source": [
    "#### Item Family"
   ]
  },
  {
   "cell_type": "code",
   "execution_count": 15,
   "metadata": {},
   "outputs": [],
   "source": [
    "items['family'] = items['family'].astype('category')\n",
    "item_family_features = items.family.cat.codes.values"
   ]
  },
  {
   "cell_type": "markdown",
   "metadata": {},
   "source": [
    "#### Item's class"
   ]
  },
  {
   "cell_type": "code",
   "execution_count": 16,
   "metadata": {},
   "outputs": [],
   "source": [
    "items['class'] = items['class'].astype('category')\n",
    "item_class_features = items['class'].cat.codes.values"
   ]
  },
  {
   "cell_type": "markdown",
   "metadata": {},
   "source": [
    "### Store"
   ]
  },
  {
   "cell_type": "code",
   "execution_count": 17,
   "metadata": {},
   "outputs": [],
   "source": [
    "stores = stores.reindex(df_train.index.get_level_values(0))"
   ]
  },
  {
   "cell_type": "markdown",
   "metadata": {},
   "source": [
    "#### Store's city"
   ]
  },
  {
   "cell_type": "code",
   "execution_count": 18,
   "metadata": {},
   "outputs": [],
   "source": [
    "stores['city'] = stores['city'].astype('category')\n",
    "store_city_features = stores['city'].cat.codes.values"
   ]
  },
  {
   "cell_type": "markdown",
   "metadata": {},
   "source": [
    "#### Store's state"
   ]
  },
  {
   "cell_type": "code",
   "execution_count": 19,
   "metadata": {},
   "outputs": [],
   "source": [
    "stores['state'] = stores['state'].astype('category')\n",
    "store_state_features = stores['state'].cat.codes.values"
   ]
  },
  {
   "cell_type": "markdown",
   "metadata": {},
   "source": [
    "#### Store's type"
   ]
  },
  {
   "cell_type": "code",
   "execution_count": 20,
   "metadata": {},
   "outputs": [],
   "source": [
    "stores['type'] = stores['type'].astype('category')\n",
    "store_type_features = stores['type'].cat.codes.values"
   ]
  },
  {
   "cell_type": "markdown",
   "metadata": {},
   "source": [
    "#### Store's cluster"
   ]
  },
  {
   "cell_type": "code",
   "execution_count": 21,
   "metadata": {},
   "outputs": [],
   "source": [
    "stores['cluster'] = stores['cluster'].astype('category')\n",
    "store_cluster_features = stores['cluster'].cat.codes.values"
   ]
  },
  {
   "cell_type": "code",
   "execution_count": 22,
   "metadata": {},
   "outputs": [],
   "source": [
    "df_train.columns = df_train.columns.get_level_values(1)"
   ]
  },
  {
   "cell_type": "markdown",
   "metadata": {},
   "source": [
    "#### Filling missing date"
   ]
  },
  {
   "cell_type": "code",
   "execution_count": 23,
   "metadata": {},
   "outputs": [
    {
     "name": "stdout",
     "output_type": "stream",
     "text": [
      "2016-12-25 00:00:00\n"
     ]
    }
   ],
   "source": [
    "date_list = df_train.columns\n",
    "obj_list = pd.date_range(filter_date, test_start-timedelta(1))\n",
    "diff_list = list(set(obj_list) - set(date_list)) \n",
    "for i in diff_list:\n",
    "    print(i)\n",
    "    df_train[i] = 0"
   ]
  },
  {
   "cell_type": "code",
   "execution_count": 24,
   "metadata": {},
   "outputs": [
    {
     "name": "stdout",
     "output_type": "stream",
     "text": [
      "2016-12-25 00:00:00\n"
     ]
    }
   ],
   "source": [
    "date_list = promo_features.columns\n",
    "obj_list = pd.date_range(filter_date, test_end)\n",
    "diff_list = list(set(obj_list) - set(date_list)) \n",
    "for i in diff_list:\n",
    "    print(i)\n",
    "    promo_features[i] = 0"
   ]
  },
  {
   "cell_type": "markdown",
   "metadata": {},
   "source": [
    "#### Lagging and sliding windows"
   ]
  },
  {
   "cell_type": "code",
   "execution_count": 25,
   "metadata": {},
   "outputs": [],
   "source": [
    "LAG_DICT = {'unit_sales': [1,2,3, 4, 5, 6, 7, 8, 9, 10 ,11 ,12, 13 ,14, 15, 16, 21,30, 60],\n",
    "            'onpromotion': [2, 3,4,5,6, 7, 14, 21]}\n",
    "\n",
    "SLIDING_DICT = {'unit_sales': [3, 4, 5, 6, 7, 14, 21, 30, 60]}\n",
    "\n",
    "# initialise dirs\n",
    "RAW_DATA_DIR = 'datasets/'"
   ]
  },
  {
   "cell_type": "code",
   "execution_count": 26,
   "metadata": {},
   "outputs": [
    {
     "data": {
      "text/plain": [
       "datetime.date(2017, 4, 21)"
      ]
     },
     "execution_count": 26,
     "metadata": {},
     "output_type": "execute_result"
    }
   ],
   "source": [
    "train_start + timedelta(days=16)"
   ]
  },
  {
   "cell_type": "code",
   "execution_count": 27,
   "metadata": {},
   "outputs": [],
   "source": [
    "def get_timespan(df, \n",
    "                 start_time,\n",
    "                 minus,\n",
    "                 periods,\n",
    "                 freq='D'):\n",
    "    return df[pd.date_range(start_time - timedelta(days=minus), periods=periods, freq=freq)]\n",
    "\n",
    "def gen_dataset(df, \n",
    "                promo_features,\n",
    "                item_family_features,\n",
    "                item_class_features,\n",
    "                store_city_features,\n",
    "                store_state_features,\n",
    "                store_type_features,\n",
    "                store_cluster_features,\n",
    "                start_time,\n",
    "                is_train=True):\n",
    "    # init\n",
    "    X = pd.DataFrame()\n",
    "    \n",
    "    for i in LAG_DICT['unit_sales']:\n",
    "        X['lag_{}_sales'.format(i)] = get_timespan(df, start_time, i, 1).values.ravel()\n",
    "    \n",
    "    for i in LAG_DICT['onpromotion']:\n",
    "        X['sum_{}_promo'.format(i)] = get_timespan(promo_features, start_time, i, 1).sum(axis=1).ravel()\n",
    "        \n",
    "    for i in range(1, 16):\n",
    "        X['sum_{}_promo_test'.format(i)]= get_timespan(promo_features, start_time + timedelta(days=16), 15, i).sum(axis=1).values\n",
    "        \n",
    "    for i in SLIDING_DICT['unit_sales']:\n",
    "        X[\"mean_{}_sales\".format(i)] = get_timespan(df, start_time, i, i).mean(axis=1).values\n",
    "        X[\"std_{}_sales\".format(i)] = get_timespan(df, start_time, i, i).std(axis=1).values\n",
    "        X[\"min_{}_sales\".format(i)] = get_timespan(df, start_time, i, i).min(axis=1).values\n",
    "        X[\"max_{}_sales\".format(i)] = get_timespan(df, start_time, i, i).max(axis=1).values\n",
    "        X[\"median_{}_sales\".format(i)] = get_timespan(df, start_time, i, i).median(axis=1).values\n",
    "\n",
    "\n",
    "    for i in range(7):\n",
    "        X['mean_4_dow{}_2017'.format(i)] = get_timespan(df, start_time, 28-i, 4, freq='7D').mean(axis=1).values\n",
    "        X['mean_20_dow{}_2017'.format(i)] = get_timespan(df, start_time, 140-i, 20, freq='7D').mean(axis=1).values\n",
    "        \n",
    "    # for the next to-predict 16 days \n",
    "    for i in range(16):\n",
    "        X[\"promo_{}\".format(i)] = promo_features[start_time + timedelta(days=i)].values.astype(np.uint8)\n",
    "\n",
    "    for i in [7, 14, 30, 60, 140]:\n",
    "        tmp = get_timespan(df, start_time, i, i)\n",
    "\n",
    "        X['has_sales_days_in_last_{}'.format(i)] = (tmp > 0).sum(axis=1).values\n",
    "        X['last_has_sales_day_in_last_%s' % i] = i - ((tmp > 0) * np.arange(i)).max(axis=1).values\n",
    "\n",
    "        tmp = get_timespan(promo_features, start_time, i, i)\n",
    "        X['has_promo_days_in_last_%s' % i] = (tmp > 0).sum(axis=1).values\n",
    "        X['last_has_promo_day_in_last_%s' % i] = i - ((tmp > 0) * np.arange(i)).max(axis=1).values\n",
    "\n",
    "\n",
    "        \n",
    "#     X['item_family_features'] = item_family_features\n",
    "\n",
    "#     X['item_class_features'] = item_class_features\n",
    "\n",
    "#     X['store_city_features'] = store_city_features\n",
    "\n",
    "#     X['store_state_features'] = store_state_features\n",
    "\n",
    "#     X['store_type_features'] = store_type_features\n",
    "\n",
    "#     X['store_cluster_features'] = store_cluster_features\n",
    "        \n",
    "    if is_train:\n",
    "        y = df[pd.date_range(start_time, periods=16)].values\n",
    "        return X, y\n",
    "    return X\n"
   ]
  },
  {
   "cell_type": "markdown",
   "metadata": {},
   "source": [
    "#### Generate train, valid and test sets"
   ]
  },
  {
   "cell_type": "code",
   "execution_count": 28,
   "metadata": {},
   "outputs": [
    {
     "name": "stderr",
     "output_type": "stream",
     "text": [
      "No. of week:   0%|          | 0/16 [00:00<?, ?it/s]"
     ]
    },
    {
     "name": "stdout",
     "output_type": "stream",
     "text": [
      "Preparing dataset...\n"
     ]
    },
    {
     "name": "stderr",
     "output_type": "stream",
     "text": [
      "No. of week: 100%|██████████| 16/16 [01:04<00:00,  4.04s/it]\n"
     ]
    }
   ],
   "source": [
    "print(\"Preparing dataset...\")\n",
    "\n",
    "nbr_weeks = int((valid_start - train_start).days/7)\n",
    "\n",
    "X_l, y_l = [], []\n",
    "\n",
    "for i in tqdm(range(nbr_weeks), desc = 'No. of week'):\n",
    "    delta = timedelta(days=7 * i)\n",
    "    X_tmp, y_tmp = gen_dataset(\n",
    "        df_train,\n",
    "        promo_features,\n",
    "        item_family_features,\n",
    "        item_class_features,\n",
    "        store_city_features,\n",
    "        store_state_features,\n",
    "        store_type_features,\n",
    "        store_cluster_features,\n",
    "        train_start + delta\n",
    "    )\n",
    "    X_l.append(X_tmp)\n",
    "    y_l.append(y_tmp)\n",
    "#     break"
   ]
  },
  {
   "cell_type": "code",
   "execution_count": 29,
   "metadata": {},
   "outputs": [],
   "source": [
    "X_train = pd.concat(X_l, axis=0)\n",
    "y_train = np.concatenate(y_l, axis=0)\n",
    "del X_l, y_l"
   ]
  },
  {
   "cell_type": "code",
   "execution_count": 30,
   "metadata": {},
   "outputs": [],
   "source": [
    "\n",
    "X_val, y_val = gen_dataset(df_train,\n",
    "                           promo_features,\n",
    "                           item_family_features,\n",
    "                           item_class_features,\n",
    "                           store_city_features,\n",
    "                           store_state_features,\n",
    "                           store_type_features,\n",
    "                           store_cluster_features,\n",
    "                           valid_start)\n",
    "X_test = gen_dataset(df_train, \n",
    "                    promo_features,\n",
    "                    item_family_features,\n",
    "                    item_class_features,\n",
    "                    store_city_features,\n",
    "                    store_state_features,\n",
    "                    store_type_features,\n",
    "                    store_cluster_features,\n",
    "                    test_start, is_train=False)"
   ]
  },
  {
   "cell_type": "markdown",
   "metadata": {},
   "source": [
    "#### Train Model"
   ]
  },
  {
   "cell_type": "code",
   "execution_count": 31,
   "metadata": {},
   "outputs": [
    {
     "name": "stderr",
     "output_type": "stream",
     "text": [
      "Using TensorFlow backend.\n"
     ]
    }
   ],
   "source": [
    "import pandas as pd\n",
    "import numpy as np\n",
    "\n",
    "from config import (\n",
    "    RAW_DATA_DIR,\n",
    "    FEATURE_DIR\n",
    ")\n",
    "\n",
    "from keras.models import Model\n",
    "from keras.layers import Input, Conv1D, Dense, Activation, Dropout, Lambda, Multiply, Add, Concatenate\n",
    "from keras.optimizers import Adam"
   ]
  },
  {
   "cell_type": "code",
   "execution_count": 34,
   "metadata": {},
   "outputs": [],
   "source": [
    "def wavenet_enhance_model(input_length, feature_length, output_length):\n",
    "    # convolutional operation parameters\n",
    "    n_filters = 32 # 32 \n",
    "    filter_width = 2\n",
    "    dilation_rates = [2**i for i in range(8)] * 2 \n",
    "\n",
    "    # define an input history series and pass it through a stack of dilated causal convolution blocks. \n",
    "    history_seq = Input(shape=(input_length, feature_length))\n",
    "    x = history_seq\n",
    "\n",
    "    skips = []\n",
    "    for dilation_rate in dilation_rates:\n",
    "\n",
    "        # preprocessing - equivalent to time-distributed dense\n",
    "        x = Conv1D(64, 1, padding='same', activation='relu')(x) \n",
    "\n",
    "        # filter convolution\n",
    "        x_f = Conv1D(filters=n_filters,\n",
    "                     kernel_size=filter_width, \n",
    "                     padding='causal',\n",
    "                     dilation_rate=dilation_rate)(x)\n",
    "\n",
    "        # gating convolution\n",
    "        x_g = Conv1D(filters=n_filters,\n",
    "                     kernel_size=filter_width, \n",
    "                     padding='causal',\n",
    "                     dilation_rate=dilation_rate)(x)\n",
    "\n",
    "        # multiply filter and gating branches\n",
    "        z = Multiply()([Activation('tanh')(x_f),\n",
    "                        Activation('sigmoid')(x_g)])\n",
    "\n",
    "        # postprocessing - equivalent to time-distributed dense\n",
    "        z = Conv1D(output_length, 1, padding='same', activation='relu')(z)\n",
    "\n",
    "        # residual connection\n",
    "        x = Add()([x, z])    \n",
    "\n",
    "        # collect skip connections\n",
    "        skips.append(z)\n",
    "\n",
    "    # add all skip connection outputs \n",
    "    out = Activation('relu')(Add()(skips))\n",
    "\n",
    "    # final time-distributed dense layers \n",
    "    out = Conv1D(128, 1, padding='same')(out)\n",
    "    out = Activation('relu')(out)\n",
    "    out = Dropout(.2)(out)\n",
    "    out = Conv1D(output_length, 1, padding='same')(out)\n",
    "\n",
    "    # extract the last time steps as the training target\n",
    "    def slice(x, seq_length):\n",
    "        return x[:,-seq_length:,:]\n",
    "\n",
    "    pred_seq_train = Lambda(slice, arguments={'seq_length':output_length})(out)\n",
    "\n",
    "    model = Model(history_seq, pred_seq_train)\n",
    "    model.compile(Adam(), loss='mean_squared_error')\n",
    "    return model"
   ]
  },
  {
   "cell_type": "code",
   "execution_count": 35,
   "metadata": {},
   "outputs": [
    {
     "name": "stdout",
     "output_type": "stream",
     "text": [
      "Model: \"model_2\"\n",
      "__________________________________________________________________________________________________\n",
      "Layer (type)                    Output Shape         Param #     Connected to                     \n",
      "==================================================================================================\n",
      "input_2 (InputLayer)            (None, 1, 137)       0                                            \n",
      "__________________________________________________________________________________________________\n",
      "conv1d_67 (Conv1D)              (None, 1, 16)        2208        input_2[0][0]                    \n",
      "__________________________________________________________________________________________________\n",
      "conv1d_68 (Conv1D)              (None, 1, 32)        1056        conv1d_67[0][0]                  \n",
      "__________________________________________________________________________________________________\n",
      "conv1d_69 (Conv1D)              (None, 1, 32)        1056        conv1d_67[0][0]                  \n",
      "__________________________________________________________________________________________________\n",
      "activation_35 (Activation)      (None, 1, 32)        0           conv1d_68[0][0]                  \n",
      "__________________________________________________________________________________________________\n",
      "activation_36 (Activation)      (None, 1, 32)        0           conv1d_69[0][0]                  \n",
      "__________________________________________________________________________________________________\n",
      "multiply_17 (Multiply)          (None, 1, 32)        0           activation_35[0][0]              \n",
      "                                                                 activation_36[0][0]              \n",
      "__________________________________________________________________________________________________\n",
      "conv1d_70 (Conv1D)              (None, 1, 16)        528         multiply_17[0][0]                \n",
      "__________________________________________________________________________________________________\n",
      "add_18 (Add)                    (None, 1, 16)        0           conv1d_67[0][0]                  \n",
      "                                                                 conv1d_70[0][0]                  \n",
      "__________________________________________________________________________________________________\n",
      "conv1d_71 (Conv1D)              (None, 1, 16)        272         add_18[0][0]                     \n",
      "__________________________________________________________________________________________________\n",
      "conv1d_72 (Conv1D)              (None, 1, 32)        1056        conv1d_71[0][0]                  \n",
      "__________________________________________________________________________________________________\n",
      "conv1d_73 (Conv1D)              (None, 1, 32)        1056        conv1d_71[0][0]                  \n",
      "__________________________________________________________________________________________________\n",
      "activation_37 (Activation)      (None, 1, 32)        0           conv1d_72[0][0]                  \n",
      "__________________________________________________________________________________________________\n",
      "activation_38 (Activation)      (None, 1, 32)        0           conv1d_73[0][0]                  \n",
      "__________________________________________________________________________________________________\n",
      "multiply_18 (Multiply)          (None, 1, 32)        0           activation_37[0][0]              \n",
      "                                                                 activation_38[0][0]              \n",
      "__________________________________________________________________________________________________\n",
      "conv1d_74 (Conv1D)              (None, 1, 16)        528         multiply_18[0][0]                \n",
      "__________________________________________________________________________________________________\n",
      "add_19 (Add)                    (None, 1, 16)        0           conv1d_71[0][0]                  \n",
      "                                                                 conv1d_74[0][0]                  \n",
      "__________________________________________________________________________________________________\n",
      "conv1d_75 (Conv1D)              (None, 1, 16)        272         add_19[0][0]                     \n",
      "__________________________________________________________________________________________________\n",
      "conv1d_76 (Conv1D)              (None, 1, 32)        1056        conv1d_75[0][0]                  \n",
      "__________________________________________________________________________________________________\n",
      "conv1d_77 (Conv1D)              (None, 1, 32)        1056        conv1d_75[0][0]                  \n",
      "__________________________________________________________________________________________________\n",
      "activation_39 (Activation)      (None, 1, 32)        0           conv1d_76[0][0]                  \n",
      "__________________________________________________________________________________________________\n",
      "activation_40 (Activation)      (None, 1, 32)        0           conv1d_77[0][0]                  \n",
      "__________________________________________________________________________________________________\n",
      "multiply_19 (Multiply)          (None, 1, 32)        0           activation_39[0][0]              \n",
      "                                                                 activation_40[0][0]              \n",
      "__________________________________________________________________________________________________\n",
      "conv1d_78 (Conv1D)              (None, 1, 16)        528         multiply_19[0][0]                \n",
      "__________________________________________________________________________________________________\n",
      "add_20 (Add)                    (None, 1, 16)        0           conv1d_75[0][0]                  \n",
      "                                                                 conv1d_78[0][0]                  \n",
      "__________________________________________________________________________________________________\n",
      "conv1d_79 (Conv1D)              (None, 1, 16)        272         add_20[0][0]                     \n",
      "__________________________________________________________________________________________________\n",
      "conv1d_80 (Conv1D)              (None, 1, 32)        1056        conv1d_79[0][0]                  \n",
      "__________________________________________________________________________________________________\n",
      "conv1d_81 (Conv1D)              (None, 1, 32)        1056        conv1d_79[0][0]                  \n",
      "__________________________________________________________________________________________________\n",
      "activation_41 (Activation)      (None, 1, 32)        0           conv1d_80[0][0]                  \n",
      "__________________________________________________________________________________________________\n",
      "activation_42 (Activation)      (None, 1, 32)        0           conv1d_81[0][0]                  \n",
      "__________________________________________________________________________________________________\n",
      "multiply_20 (Multiply)          (None, 1, 32)        0           activation_41[0][0]              \n",
      "                                                                 activation_42[0][0]              \n",
      "__________________________________________________________________________________________________\n",
      "conv1d_82 (Conv1D)              (None, 1, 16)        528         multiply_20[0][0]                \n",
      "__________________________________________________________________________________________________\n",
      "add_21 (Add)                    (None, 1, 16)        0           conv1d_79[0][0]                  \n",
      "                                                                 conv1d_82[0][0]                  \n",
      "__________________________________________________________________________________________________\n",
      "conv1d_83 (Conv1D)              (None, 1, 16)        272         add_21[0][0]                     \n",
      "__________________________________________________________________________________________________\n",
      "conv1d_84 (Conv1D)              (None, 1, 32)        1056        conv1d_83[0][0]                  \n",
      "__________________________________________________________________________________________________\n",
      "conv1d_85 (Conv1D)              (None, 1, 32)        1056        conv1d_83[0][0]                  \n",
      "__________________________________________________________________________________________________\n",
      "activation_43 (Activation)      (None, 1, 32)        0           conv1d_84[0][0]                  \n",
      "__________________________________________________________________________________________________\n",
      "activation_44 (Activation)      (None, 1, 32)        0           conv1d_85[0][0]                  \n",
      "__________________________________________________________________________________________________\n",
      "multiply_21 (Multiply)          (None, 1, 32)        0           activation_43[0][0]              \n",
      "                                                                 activation_44[0][0]              \n",
      "__________________________________________________________________________________________________\n",
      "conv1d_86 (Conv1D)              (None, 1, 16)        528         multiply_21[0][0]                \n",
      "__________________________________________________________________________________________________\n",
      "add_22 (Add)                    (None, 1, 16)        0           conv1d_83[0][0]                  \n",
      "                                                                 conv1d_86[0][0]                  \n",
      "__________________________________________________________________________________________________\n",
      "conv1d_87 (Conv1D)              (None, 1, 16)        272         add_22[0][0]                     \n",
      "__________________________________________________________________________________________________\n",
      "conv1d_88 (Conv1D)              (None, 1, 32)        1056        conv1d_87[0][0]                  \n",
      "__________________________________________________________________________________________________\n",
      "conv1d_89 (Conv1D)              (None, 1, 32)        1056        conv1d_87[0][0]                  \n",
      "__________________________________________________________________________________________________\n",
      "activation_45 (Activation)      (None, 1, 32)        0           conv1d_88[0][0]                  \n",
      "__________________________________________________________________________________________________\n",
      "activation_46 (Activation)      (None, 1, 32)        0           conv1d_89[0][0]                  \n",
      "__________________________________________________________________________________________________\n",
      "multiply_22 (Multiply)          (None, 1, 32)        0           activation_45[0][0]              \n",
      "                                                                 activation_46[0][0]              \n",
      "__________________________________________________________________________________________________\n",
      "conv1d_90 (Conv1D)              (None, 1, 16)        528         multiply_22[0][0]                \n",
      "__________________________________________________________________________________________________\n",
      "add_23 (Add)                    (None, 1, 16)        0           conv1d_87[0][0]                  \n",
      "                                                                 conv1d_90[0][0]                  \n",
      "__________________________________________________________________________________________________\n",
      "conv1d_91 (Conv1D)              (None, 1, 16)        272         add_23[0][0]                     \n",
      "__________________________________________________________________________________________________\n",
      "conv1d_92 (Conv1D)              (None, 1, 32)        1056        conv1d_91[0][0]                  \n",
      "__________________________________________________________________________________________________\n",
      "conv1d_93 (Conv1D)              (None, 1, 32)        1056        conv1d_91[0][0]                  \n",
      "__________________________________________________________________________________________________\n",
      "activation_47 (Activation)      (None, 1, 32)        0           conv1d_92[0][0]                  \n",
      "__________________________________________________________________________________________________\n",
      "activation_48 (Activation)      (None, 1, 32)        0           conv1d_93[0][0]                  \n",
      "__________________________________________________________________________________________________\n",
      "multiply_23 (Multiply)          (None, 1, 32)        0           activation_47[0][0]              \n",
      "                                                                 activation_48[0][0]              \n",
      "__________________________________________________________________________________________________\n",
      "conv1d_94 (Conv1D)              (None, 1, 16)        528         multiply_23[0][0]                \n",
      "__________________________________________________________________________________________________\n",
      "add_24 (Add)                    (None, 1, 16)        0           conv1d_91[0][0]                  \n",
      "                                                                 conv1d_94[0][0]                  \n",
      "__________________________________________________________________________________________________\n",
      "conv1d_95 (Conv1D)              (None, 1, 16)        272         add_24[0][0]                     \n",
      "__________________________________________________________________________________________________\n",
      "conv1d_96 (Conv1D)              (None, 1, 32)        1056        conv1d_95[0][0]                  \n",
      "__________________________________________________________________________________________________\n",
      "conv1d_97 (Conv1D)              (None, 1, 32)        1056        conv1d_95[0][0]                  \n",
      "__________________________________________________________________________________________________\n",
      "activation_49 (Activation)      (None, 1, 32)        0           conv1d_96[0][0]                  \n",
      "__________________________________________________________________________________________________\n",
      "activation_50 (Activation)      (None, 1, 32)        0           conv1d_97[0][0]                  \n",
      "__________________________________________________________________________________________________\n",
      "multiply_24 (Multiply)          (None, 1, 32)        0           activation_49[0][0]              \n",
      "                                                                 activation_50[0][0]              \n",
      "__________________________________________________________________________________________________\n",
      "conv1d_98 (Conv1D)              (None, 1, 16)        528         multiply_24[0][0]                \n",
      "__________________________________________________________________________________________________\n",
      "add_25 (Add)                    (None, 1, 16)        0           conv1d_95[0][0]                  \n",
      "                                                                 conv1d_98[0][0]                  \n",
      "__________________________________________________________________________________________________\n",
      "conv1d_99 (Conv1D)              (None, 1, 16)        272         add_25[0][0]                     \n",
      "__________________________________________________________________________________________________\n",
      "conv1d_100 (Conv1D)             (None, 1, 32)        1056        conv1d_99[0][0]                  \n",
      "__________________________________________________________________________________________________\n",
      "conv1d_101 (Conv1D)             (None, 1, 32)        1056        conv1d_99[0][0]                  \n",
      "__________________________________________________________________________________________________\n",
      "activation_51 (Activation)      (None, 1, 32)        0           conv1d_100[0][0]                 \n",
      "__________________________________________________________________________________________________\n",
      "activation_52 (Activation)      (None, 1, 32)        0           conv1d_101[0][0]                 \n",
      "__________________________________________________________________________________________________\n",
      "multiply_25 (Multiply)          (None, 1, 32)        0           activation_51[0][0]              \n",
      "                                                                 activation_52[0][0]              \n",
      "__________________________________________________________________________________________________\n",
      "conv1d_102 (Conv1D)             (None, 1, 16)        528         multiply_25[0][0]                \n",
      "__________________________________________________________________________________________________\n",
      "add_26 (Add)                    (None, 1, 16)        0           conv1d_99[0][0]                  \n",
      "                                                                 conv1d_102[0][0]                 \n",
      "__________________________________________________________________________________________________\n",
      "conv1d_103 (Conv1D)             (None, 1, 16)        272         add_26[0][0]                     \n",
      "__________________________________________________________________________________________________\n",
      "conv1d_104 (Conv1D)             (None, 1, 32)        1056        conv1d_103[0][0]                 \n",
      "__________________________________________________________________________________________________\n",
      "conv1d_105 (Conv1D)             (None, 1, 32)        1056        conv1d_103[0][0]                 \n",
      "__________________________________________________________________________________________________\n",
      "activation_53 (Activation)      (None, 1, 32)        0           conv1d_104[0][0]                 \n",
      "__________________________________________________________________________________________________\n",
      "activation_54 (Activation)      (None, 1, 32)        0           conv1d_105[0][0]                 \n",
      "__________________________________________________________________________________________________\n",
      "multiply_26 (Multiply)          (None, 1, 32)        0           activation_53[0][0]              \n",
      "                                                                 activation_54[0][0]              \n",
      "__________________________________________________________________________________________________\n",
      "conv1d_106 (Conv1D)             (None, 1, 16)        528         multiply_26[0][0]                \n",
      "__________________________________________________________________________________________________\n",
      "add_27 (Add)                    (None, 1, 16)        0           conv1d_103[0][0]                 \n",
      "                                                                 conv1d_106[0][0]                 \n",
      "__________________________________________________________________________________________________\n",
      "conv1d_107 (Conv1D)             (None, 1, 16)        272         add_27[0][0]                     \n",
      "__________________________________________________________________________________________________\n",
      "conv1d_108 (Conv1D)             (None, 1, 32)        1056        conv1d_107[0][0]                 \n",
      "__________________________________________________________________________________________________\n",
      "conv1d_109 (Conv1D)             (None, 1, 32)        1056        conv1d_107[0][0]                 \n",
      "__________________________________________________________________________________________________\n",
      "activation_55 (Activation)      (None, 1, 32)        0           conv1d_108[0][0]                 \n",
      "__________________________________________________________________________________________________\n",
      "activation_56 (Activation)      (None, 1, 32)        0           conv1d_109[0][0]                 \n",
      "__________________________________________________________________________________________________\n",
      "multiply_27 (Multiply)          (None, 1, 32)        0           activation_55[0][0]              \n",
      "                                                                 activation_56[0][0]              \n",
      "__________________________________________________________________________________________________\n",
      "conv1d_110 (Conv1D)             (None, 1, 16)        528         multiply_27[0][0]                \n",
      "__________________________________________________________________________________________________\n",
      "add_28 (Add)                    (None, 1, 16)        0           conv1d_107[0][0]                 \n",
      "                                                                 conv1d_110[0][0]                 \n",
      "__________________________________________________________________________________________________\n",
      "conv1d_111 (Conv1D)             (None, 1, 16)        272         add_28[0][0]                     \n",
      "__________________________________________________________________________________________________\n",
      "conv1d_112 (Conv1D)             (None, 1, 32)        1056        conv1d_111[0][0]                 \n",
      "__________________________________________________________________________________________________\n",
      "conv1d_113 (Conv1D)             (None, 1, 32)        1056        conv1d_111[0][0]                 \n",
      "__________________________________________________________________________________________________\n",
      "activation_57 (Activation)      (None, 1, 32)        0           conv1d_112[0][0]                 \n",
      "__________________________________________________________________________________________________\n",
      "activation_58 (Activation)      (None, 1, 32)        0           conv1d_113[0][0]                 \n",
      "__________________________________________________________________________________________________\n",
      "multiply_28 (Multiply)          (None, 1, 32)        0           activation_57[0][0]              \n",
      "                                                                 activation_58[0][0]              \n",
      "__________________________________________________________________________________________________\n",
      "conv1d_114 (Conv1D)             (None, 1, 16)        528         multiply_28[0][0]                \n",
      "__________________________________________________________________________________________________\n",
      "add_29 (Add)                    (None, 1, 16)        0           conv1d_111[0][0]                 \n",
      "                                                                 conv1d_114[0][0]                 \n",
      "__________________________________________________________________________________________________\n",
      "conv1d_115 (Conv1D)             (None, 1, 16)        272         add_29[0][0]                     \n",
      "__________________________________________________________________________________________________\n",
      "conv1d_116 (Conv1D)             (None, 1, 32)        1056        conv1d_115[0][0]                 \n",
      "__________________________________________________________________________________________________\n",
      "conv1d_117 (Conv1D)             (None, 1, 32)        1056        conv1d_115[0][0]                 \n",
      "__________________________________________________________________________________________________\n",
      "activation_59 (Activation)      (None, 1, 32)        0           conv1d_116[0][0]                 \n",
      "__________________________________________________________________________________________________\n",
      "activation_60 (Activation)      (None, 1, 32)        0           conv1d_117[0][0]                 \n",
      "__________________________________________________________________________________________________\n",
      "multiply_29 (Multiply)          (None, 1, 32)        0           activation_59[0][0]              \n",
      "                                                                 activation_60[0][0]              \n",
      "__________________________________________________________________________________________________\n",
      "conv1d_118 (Conv1D)             (None, 1, 16)        528         multiply_29[0][0]                \n",
      "__________________________________________________________________________________________________\n",
      "add_30 (Add)                    (None, 1, 16)        0           conv1d_115[0][0]                 \n",
      "                                                                 conv1d_118[0][0]                 \n",
      "__________________________________________________________________________________________________\n",
      "conv1d_119 (Conv1D)             (None, 1, 16)        272         add_30[0][0]                     \n",
      "__________________________________________________________________________________________________\n",
      "conv1d_120 (Conv1D)             (None, 1, 32)        1056        conv1d_119[0][0]                 \n",
      "__________________________________________________________________________________________________\n",
      "conv1d_121 (Conv1D)             (None, 1, 32)        1056        conv1d_119[0][0]                 \n",
      "__________________________________________________________________________________________________\n",
      "activation_61 (Activation)      (None, 1, 32)        0           conv1d_120[0][0]                 \n",
      "__________________________________________________________________________________________________\n",
      "activation_62 (Activation)      (None, 1, 32)        0           conv1d_121[0][0]                 \n",
      "__________________________________________________________________________________________________\n",
      "multiply_30 (Multiply)          (None, 1, 32)        0           activation_61[0][0]              \n",
      "                                                                 activation_62[0][0]              \n",
      "__________________________________________________________________________________________________\n",
      "conv1d_122 (Conv1D)             (None, 1, 16)        528         multiply_30[0][0]                \n",
      "__________________________________________________________________________________________________\n",
      "add_31 (Add)                    (None, 1, 16)        0           conv1d_119[0][0]                 \n",
      "                                                                 conv1d_122[0][0]                 \n",
      "__________________________________________________________________________________________________\n",
      "conv1d_123 (Conv1D)             (None, 1, 16)        272         add_31[0][0]                     \n",
      "__________________________________________________________________________________________________\n",
      "conv1d_124 (Conv1D)             (None, 1, 32)        1056        conv1d_123[0][0]                 \n",
      "__________________________________________________________________________________________________\n",
      "conv1d_125 (Conv1D)             (None, 1, 32)        1056        conv1d_123[0][0]                 \n",
      "__________________________________________________________________________________________________\n",
      "activation_63 (Activation)      (None, 1, 32)        0           conv1d_124[0][0]                 \n",
      "__________________________________________________________________________________________________\n",
      "activation_64 (Activation)      (None, 1, 32)        0           conv1d_125[0][0]                 \n",
      "__________________________________________________________________________________________________\n",
      "multiply_31 (Multiply)          (None, 1, 32)        0           activation_63[0][0]              \n",
      "                                                                 activation_64[0][0]              \n",
      "__________________________________________________________________________________________________\n",
      "conv1d_126 (Conv1D)             (None, 1, 16)        528         multiply_31[0][0]                \n",
      "__________________________________________________________________________________________________\n",
      "add_32 (Add)                    (None, 1, 16)        0           conv1d_123[0][0]                 \n",
      "                                                                 conv1d_126[0][0]                 \n",
      "__________________________________________________________________________________________________\n",
      "conv1d_127 (Conv1D)             (None, 1, 16)        272         add_32[0][0]                     \n",
      "__________________________________________________________________________________________________\n",
      "conv1d_128 (Conv1D)             (None, 1, 32)        1056        conv1d_127[0][0]                 \n",
      "__________________________________________________________________________________________________\n",
      "conv1d_129 (Conv1D)             (None, 1, 32)        1056        conv1d_127[0][0]                 \n",
      "__________________________________________________________________________________________________\n",
      "activation_65 (Activation)      (None, 1, 32)        0           conv1d_128[0][0]                 \n",
      "__________________________________________________________________________________________________\n",
      "activation_66 (Activation)      (None, 1, 32)        0           conv1d_129[0][0]                 \n",
      "__________________________________________________________________________________________________\n",
      "multiply_32 (Multiply)          (None, 1, 32)        0           activation_65[0][0]              \n",
      "                                                                 activation_66[0][0]              \n",
      "__________________________________________________________________________________________________\n",
      "conv1d_130 (Conv1D)             (None, 1, 16)        528         multiply_32[0][0]                \n",
      "__________________________________________________________________________________________________\n",
      "add_34 (Add)                    (None, 1, 16)        0           conv1d_70[0][0]                  \n",
      "                                                                 conv1d_74[0][0]                  \n",
      "                                                                 conv1d_78[0][0]                  \n",
      "                                                                 conv1d_82[0][0]                  \n",
      "                                                                 conv1d_86[0][0]                  \n",
      "                                                                 conv1d_90[0][0]                  \n",
      "                                                                 conv1d_94[0][0]                  \n",
      "                                                                 conv1d_98[0][0]                  \n",
      "                                                                 conv1d_102[0][0]                 \n",
      "                                                                 conv1d_106[0][0]                 \n",
      "                                                                 conv1d_110[0][0]                 \n",
      "                                                                 conv1d_114[0][0]                 \n",
      "                                                                 conv1d_118[0][0]                 \n",
      "                                                                 conv1d_122[0][0]                 \n",
      "                                                                 conv1d_126[0][0]                 \n",
      "                                                                 conv1d_130[0][0]                 \n",
      "__________________________________________________________________________________________________\n",
      "activation_67 (Activation)      (None, 1, 16)        0           add_34[0][0]                     \n",
      "__________________________________________________________________________________________________\n",
      "conv1d_131 (Conv1D)             (None, 1, 128)       2176        activation_67[0][0]              \n",
      "__________________________________________________________________________________________________\n",
      "activation_68 (Activation)      (None, 1, 128)       0           conv1d_131[0][0]                 \n",
      "__________________________________________________________________________________________________\n",
      "dropout_2 (Dropout)             (None, 1, 128)       0           activation_68[0][0]              \n",
      "__________________________________________________________________________________________________\n",
      "conv1d_132 (Conv1D)             (None, 1, 16)        2064        dropout_2[0][0]                  \n",
      "__________________________________________________________________________________________________\n",
      "lambda_2 (Lambda)               (None, 1, 16)        0           conv1d_132[0][0]                 \n",
      "==================================================================================================\n",
      "Total params: 52,768\n",
      "Trainable params: 52,768\n",
      "Non-trainable params: 0\n",
      "__________________________________________________________________________________________________\n"
     ]
    }
   ],
   "source": [
    "model = wavenet_enhance_model(1, X_train.shape[1], y_train.shape[1])\n",
    "model.summary()"
   ]
  },
  {
   "cell_type": "code",
   "execution_count": 41,
   "metadata": {},
   "outputs": [],
   "source": [
    "# x_scaler = StandardScaler()\n",
    "# x_scaler.fit(X_train)\n",
    "# X_train = x_scaler.transform(X_train)\n",
    "# X_val = x_scaler.transform(X_val)\n",
    "# X_test = x_scaler.transform(X_test)\n",
    "\n",
    "# y_scaler = StandardScaler()\n",
    "# y_scaler.fit(y_train)\n",
    "# y_train = y_scaler.transform(y_train)\n",
    "# y_val = y_scaler.transform(y_val)\n",
    "\n",
    "x = np.reshape(X_train.values, (X_train.shape[0], 1, X_train.shape[1]))\n",
    "y = np.reshape(y_train, (y_train.shape[0], 1, y_train.shape[1]))\n",
    "\n",
    "x_v = np.reshape(X_val.values, (X_val.shape[0], 1, X_val.shape[1]))\n",
    "y_v = np.reshape(y_val, (y_val.shape[0], 1, y_val.shape[1]))\n",
    "\n",
    "x_t = np.reshape(X_test.values, (X_test.shape[0], 1, X_test.shape[1]))"
   ]
  },
  {
   "cell_type": "code",
   "execution_count": 42,
   "metadata": {},
   "outputs": [
    {
     "name": "stdout",
     "output_type": "stream",
     "text": [
      "WARNING:tensorflow:From /home/y/.pyenv/versions/anaconda3-5.2.0/lib/python3.6/site-packages/keras/backend/tensorflow_backend.py:1033: The name tf.assign_add is deprecated. Please use tf.compat.v1.assign_add instead.\n",
      "\n",
      "Train on 2742752 samples, validate on 171422 samples\n",
      "Epoch 1/10\n",
      "2742752/2742752 [==============================] - 769s 280us/step - loss: 0.4708 - val_loss: 0.3887\n",
      "Epoch 2/10\n",
      "2742752/2742752 [==============================] - 725s 264us/step - loss: 0.3966 - val_loss: 0.3874\n",
      "Epoch 3/10\n",
      "2742752/2742752 [==============================] - 729s 266us/step - loss: 0.3901 - val_loss: 0.3767\n",
      "Epoch 4/10\n",
      "2742752/2742752 [==============================] - 738s 269us/step - loss: 0.3865 - val_loss: 0.3746\n",
      "Epoch 5/10\n",
      "2742752/2742752 [==============================] - 724s 264us/step - loss: 0.3835 - val_loss: 0.3761\n",
      "Epoch 6/10\n",
      "2742752/2742752 [==============================] - 740s 270us/step - loss: 0.3813 - val_loss: 0.3742\n",
      "Epoch 7/10\n",
      "2742752/2742752 [==============================] - 723s 264us/step - loss: 0.3789 - val_loss: 0.3738\n",
      "Epoch 8/10\n",
      "2742752/2742752 [==============================] - 732s 267us/step - loss: 0.3770 - val_loss: 0.3676\n",
      "Epoch 9/10\n",
      "2742752/2742752 [==============================] - 752s 274us/step - loss: 0.3753 - val_loss: 0.3689\n",
      "Epoch 10/10\n",
      "2742752/2742752 [==============================] - 726s 265us/step - loss: 0.3740 - val_loss: 0.3662\n"
     ]
    }
   ],
   "source": [
    "batch_size = 2**12\n",
    "epochs = 10\n",
    "model.compile(Adam(), loss='mean_squared_error')\n",
    "history = model.fit(x,\n",
    "                    y,\n",
    "                    batch_size=batch_size,\n",
    "                    epochs=epochs,\n",
    "                    validation_data = (x_v, y_v))"
   ]
  },
  {
   "cell_type": "markdown",
   "metadata": {},
   "source": [
    "It's typically a good idea to look at the convergence curve of train/validation loss."
   ]
  },
  {
   "cell_type": "code",
   "execution_count": null,
   "metadata": {},
   "outputs": [],
   "source": [
    "from keras.utils import plot_model\n",
    "plot_model(model, to_file='model.png')"
   ]
  },
  {
   "cell_type": "code",
   "execution_count": null,
   "metadata": {},
   "outputs": [],
   "source": [
    "pred = model.predict(x)"
   ]
  },
  {
   "cell_type": "code",
   "execution_count": null,
   "metadata": {},
   "outputs": [],
   "source": [
    "pred = model.predict(x_v)\n",
    "y_v = np.reshape(y_v, (y_v.shape[0], y_v.shape[2]))\n",
    "pred = np.reshape(pred, (pred.shape[0], pred.shape[2]))\n",
    "mean_squared_error(y_v, pred)"
   ]
  },
  {
   "cell_type": "code",
   "execution_count": null,
   "metadata": {},
   "outputs": [],
   "source": [
    "pred = model.predict(x)\n",
    "y = np.reshape(y, (y.shape[0], y.shape[2]))\n",
    "pred = np.reshape(pred, (pred.shape[0], pred.shape[2]))\n",
    "mean_squared_error(y, pred)"
   ]
  },
  {
   "cell_type": "code",
   "execution_count": null,
   "metadata": {},
   "outputs": [],
   "source": [
    "weight = items[\"perishable\"] * 0.25 + 1\n",
    "err = (y_val - np.array(val_pred).transpose())**2\n",
    "err = err.sum(axis=1) * weight\n",
    "err = np.sqrt(err.sum() / weight.sum() / 16)\n",
    "print('nwrmsle = {}'.format(err)) #nwrmsle"
   ]
  },
  {
   "cell_type": "code",
   "execution_count": null,
   "metadata": {},
   "outputs": [],
   "source": []
  }
 ],
 "metadata": {
  "kernelspec": {
   "display_name": "Python 3",
   "language": "python",
   "name": "python3"
  },
  "language_info": {
   "codemirror_mode": {
    "name": "ipython",
    "version": 3
   },
   "file_extension": ".py",
   "mimetype": "text/x-python",
   "name": "python",
   "nbconvert_exporter": "python",
   "pygments_lexer": "ipython3",
   "version": "3.6.9"
  }
 },
 "nbformat": 4,
 "nbformat_minor": 4
}
