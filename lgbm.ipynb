{
 "cells": [
  {
   "cell_type": "code",
   "execution_count": 1,
   "metadata": {},
   "outputs": [
    {
     "name": "stderr",
     "output_type": "stream",
     "text": [
      "/Users/liuyu/anaconda3/lib/python3.7/site-packages/lightgbm/__init__.py:46: UserWarning: Starting from version 2.2.1, the library file in distribution wheels for macOS is built by the Apple Clang (Xcode_8.3.3) compiler.\n",
      "This means that in case of installing LightGBM from PyPI via the ``pip install lightgbm`` command, you don't need to install the gcc compiler anymore.\n",
      "Instead of that, you need to install the OpenMP library, which is required for running LightGBM on the system with the Apple Clang compiler.\n",
      "You can install the OpenMP library by the following command: ``brew install libomp``.\n",
      "  \"You can install the OpenMP library by the following command: ``brew install libomp``.\", UserWarning)\n"
     ]
    }
   ],
   "source": [
    "from datetime import date, timedelta\n",
    "import datetime\n",
    "import pandas as pd\n",
    "import numpy as np\n",
    "from tqdm import tqdm, tnrange\n",
    "\n",
    "from sklearn.metrics import mean_squared_error\n",
    "import lightgbm as lgb\n",
    "\n",
    "import mlflow\n",
    "import mlflow.sklearn\n",
    "\n",
    "from config import (\n",
    "    RAW_DATA_DIR,\n",
    "    FEATURE_DIR,\n",
    "    LAG_DICT,\n",
    "    SLIDING_DICT\n",
    ")"
   ]
  },
  {
   "cell_type": "code",
   "execution_count": 2,
   "metadata": {},
   "outputs": [],
   "source": [
    "# solve lightgbm error on MAC\n",
    "import os\n",
    "os.environ['KMP_DUPLICATE_LIB_OK']='True'"
   ]
  },
  {
   "cell_type": "code",
   "execution_count": 3,
   "metadata": {},
   "outputs": [],
   "source": [
    "# load data\n",
    "df_train = pd.read_csv(\n",
    "    RAW_DATA_DIR+'train.csv', usecols=[1, 2, 3, 4, 5],\n",
    "    dtype={'onpromotion': bool},\n",
    "    converters={'unit_sales': lambda u: np.log1p(\n",
    "        float(u)) if float(u) > 0 else 0},\n",
    "    parse_dates=[\"date\"],\n",
    "    skiprows=range(1, 66458909)  # 2016-01-01\n",
    ")\n",
    "\n",
    "df_test = pd.read_csv(\n",
    "    RAW_DATA_DIR+'test.csv', usecols=[0, 1, 2, 3, 4],\n",
    "    dtype={'onpromotion': bool},\n",
    "    parse_dates=[\"date\"]  # , date_parser=parser\n",
    ").set_index(\n",
    "    ['store_nbr', 'item_nbr', 'date']\n",
    ")\n",
    "\n",
    "items = pd.read_csv(\n",
    "    RAW_DATA_DIR+'items.csv',\n",
    ").set_index(\"item_nbr\")\n"
   ]
  },
  {
   "cell_type": "markdown",
   "metadata": {},
   "source": [
    "### Test Period\n",
    "\n",
    "2017-08-16 to 2017-08-31"
   ]
  },
  {
   "cell_type": "code",
   "execution_count": 4,
   "metadata": {},
   "outputs": [],
   "source": [
    "test_start = date(2017, 8, 16)\n",
    "test_end = date(2017,8, 31)"
   ]
  },
  {
   "cell_type": "code",
   "execution_count": 5,
   "metadata": {},
   "outputs": [
    {
     "name": "stdout",
     "output_type": "stream",
     "text": [
      "valid starts from 2017-07-26 to 2017-08-10\n"
     ]
    }
   ],
   "source": [
    "\n",
    "valid_start = test_start - timedelta(16)\n",
    "while(1):\n",
    "    if valid_start.weekday() == test_start.weekday():\n",
    "        break\n",
    "    valid_start = valid_start-timedelta(days=1)\n",
    "valid_end = valid_start + timedelta(15)\n",
    "print('valid starts from {} to {}'.format(valid_start, valid_end))"
   ]
  },
  {
   "cell_type": "markdown",
   "metadata": {},
   "source": [
    "### Valid Period\n",
    "\n",
    "Considering the more nearer peiods of sales data may have more in common, it would be better to find the nearest period as valid period.\n",
    "\n",
    "Based on the analysis before, we assume the sales data is periodically with the frequency of 7 days, so we want to keep that feature same\n",
    "in the train, valid and test period.\n",
    "\n",
    "So finally, we choose valid period:\n",
    "\n",
    "2017-07-26 to 2017-08-10\n"
   ]
  },
  {
   "cell_type": "code",
   "execution_count": 6,
   "metadata": {},
   "outputs": [],
   "source": [
    "valid_start = date(2017, 7, 26)\n",
    "valid_end = date(2017, 8, 10)"
   ]
  },
  {
   "cell_type": "markdown",
   "metadata": {},
   "source": [
    "### Filter Period\n",
    "\n",
    "#### Earthquake happended on April 16, 2016. It may affect for the next several weeks."
   ]
  },
  {
   "cell_type": "code",
   "execution_count": 7,
   "metadata": {},
   "outputs": [
    {
     "name": "stdout",
     "output_type": "stream",
     "text": [
      "train datasets starts from 2016-10-05\n"
     ]
    }
   ],
   "source": [
    "filter_date = date(2016,4,16) + timedelta(7*4)\n",
    "lag_max = 140\n",
    "train_start=  filter_date+timedelta(days=lag_max)\n",
    "\n",
    "while(1):\n",
    "    train_start = train_start + timedelta(1)\n",
    "    if train_start.weekday() == valid_start.weekday():\n",
    "        break\n",
    "print('train datasets starts from {}'.format(train_start))"
   ]
  },
  {
   "cell_type": "markdown",
   "metadata": {},
   "source": [
    "### Wages in the public sector are paid every two weeks on the 15 th and on the last day of the month. Supermarket sales could be affected by this.\n"
   ]
  },
  {
   "cell_type": "code",
   "execution_count": 8,
   "metadata": {},
   "outputs": [
    {
     "name": "stderr",
     "output_type": "stream",
     "text": [
      "/Users/liuyu/anaconda3/lib/python3.7/site-packages/ipykernel_launcher.py:1: FutureWarning: Comparing Series of datetimes with 'datetime.date'.  Currently, the\n",
      "'datetime.date' is coerced to a datetime. In the future pandas will\n",
      "not coerce, and a TypeError will be raised. To retain the current\n",
      "behavior, convert the 'datetime.date' to a datetime with\n",
      "'pd.Timestamp'.\n",
      "  \"\"\"Entry point for launching an IPython kernel.\n"
     ]
    }
   ],
   "source": [
    "df_train = df_train[df_train['date']>=filter_date]"
   ]
  },
  {
   "cell_type": "markdown",
   "metadata": {},
   "source": [
    "#### Promo feature"
   ]
  },
  {
   "cell_type": "code",
   "execution_count": 9,
   "metadata": {},
   "outputs": [],
   "source": [
    "promo_train = df_train.set_index(\n",
    "    [\"store_nbr\", \"item_nbr\", \"date\"])[[\"onpromotion\"]]\n",
    "\n",
    "# missing onpromotions filling\n",
    "promo_train = promo_train.unstack(level=-1).fillna(False)\n",
    "promo_train.columns = promo_train.columns.get_level_values(1)"
   ]
  },
  {
   "cell_type": "code",
   "execution_count": 10,
   "metadata": {},
   "outputs": [],
   "source": [
    "# missing test onpromotions filling\n",
    "promo_test = df_test[[\"onpromotion\"]].unstack(level=-1).fillna(False)\n",
    "promo_test.columns = promo_test.columns.get_level_values(1)\n",
    "# filter those items/stores in promo_test but not in promo_train\n",
    "promo_test = promo_test.reindex(promo_train.index).fillna(False)"
   ]
  },
  {
   "cell_type": "code",
   "execution_count": 11,
   "metadata": {},
   "outputs": [],
   "source": [
    "promo_features = pd.concat([promo_train, promo_test], axis=1)\n",
    "del promo_test, promo_train"
   ]
  },
  {
   "cell_type": "markdown",
   "metadata": {},
   "source": [
    "#### Label"
   ]
  },
  {
   "cell_type": "code",
   "execution_count": 12,
   "metadata": {},
   "outputs": [],
   "source": [
    "# label\n",
    "df_train = df_train.set_index([\"store_nbr\", \"item_nbr\", \"date\"])[[\"unit_sales\"]].unstack(level=-1).fillna(0)"
   ]
  },
  {
   "cell_type": "markdown",
   "metadata": {},
   "source": [
    "#### Perishable"
   ]
  },
  {
   "cell_type": "code",
   "execution_count": 13,
   "metadata": {},
   "outputs": [],
   "source": [
    "items = items.reindex(df_train.index.get_level_values(1))"
   ]
  },
  {
   "cell_type": "code",
   "execution_count": 14,
   "metadata": {},
   "outputs": [],
   "source": [
    "df_train.columns = df_train.columns.get_level_values(1)"
   ]
  },
  {
   "cell_type": "markdown",
   "metadata": {},
   "source": [
    "#### Filling missing date"
   ]
  },
  {
   "cell_type": "code",
   "execution_count": 15,
   "metadata": {},
   "outputs": [
    {
     "name": "stdout",
     "output_type": "stream",
     "text": [
      "2016-12-25 00:00:00\n"
     ]
    }
   ],
   "source": [
    "date_list = df_train.columns\n",
    "obj_list = pd.date_range(filter_date, test_start-timedelta(1))\n",
    "diff_list = list(set(obj_list) - set(date_list)) \n",
    "for i in diff_list:\n",
    "    print(i)\n",
    "    df_train[i] = 0"
   ]
  },
  {
   "cell_type": "code",
   "execution_count": 16,
   "metadata": {},
   "outputs": [
    {
     "name": "stdout",
     "output_type": "stream",
     "text": [
      "2016-12-25 00:00:00\n"
     ]
    }
   ],
   "source": [
    "date_list = promo_features.columns\n",
    "obj_list = pd.date_range(filter_date, test_end)\n",
    "diff_list = list(set(obj_list) - set(date_list)) \n",
    "for i in diff_list:\n",
    "    print(i)\n",
    "    promo_features[i] = 0"
   ]
  },
  {
   "cell_type": "markdown",
   "metadata": {},
   "source": [
    "#### Lagging and sliding windows"
   ]
  },
  {
   "cell_type": "code",
   "execution_count": 17,
   "metadata": {},
   "outputs": [],
   "source": [
    "LAG_DICT = {'unit_sales': [1,2,5,7,14,21,28,35],\n",
    "            'onpromotion': [14, 60]}\n",
    "\n",
    "SLIDING_DICT = {'unit_sales': [3, 7, 14, 30, 60]}\n",
    "\n",
    "# initialise dirs\n",
    "RAW_DATA_DIR = 'datasets/'"
   ]
  },
  {
   "cell_type": "code",
   "execution_count": 18,
   "metadata": {},
   "outputs": [],
   "source": [
    "def get_timespan(df, \n",
    "                 start_time,\n",
    "                 minus,\n",
    "                 periods,\n",
    "                 freq='D'):\n",
    "    return df[pd.date_range(start_time - timedelta(days=minus), periods=periods, freq=freq)]\n",
    "\n",
    "def gen_dataset(df, \n",
    "                promo_features,\n",
    "                start_time,\n",
    "                is_train=True):\n",
    "    # init\n",
    "    X = pd.DataFrame()\n",
    "    \n",
    "    for i in LAG_DICT['unit_sales']:\n",
    "        X['lag_{}_sales'.format(i)] = get_timespan(df, start_time, i, 1).values.ravel()\n",
    "    \n",
    "    for i in LAG_DICT['onpromotion']:\n",
    "        X['sum_{}_promo'.format(i)] = get_timespan(promo_features, start_time, i, 1).sum(axis=1).ravel()\n",
    "\n",
    "    for i in SLIDING_DICT['unit_sales']:\n",
    "        X[\"mean_{}_sales\".format(i)] = get_timespan(df, start_time, i, i).mean(axis=1).values\n",
    "\n",
    "    # for the next to-predict 16 days \n",
    "    for i in range(16):\n",
    "        X[\"promo_{}\".format(i)] = promo_features[start_time + timedelta(days=i)].values.astype(np.uint8)\n",
    "\n",
    "    if is_train:\n",
    "        y = df[pd.date_range(start_time, periods=16)].values\n",
    "        return X, y\n",
    "    return X\n"
   ]
  },
  {
   "cell_type": "markdown",
   "metadata": {},
   "source": [
    "#### Generate train, valid and test sets"
   ]
  },
  {
   "cell_type": "code",
   "execution_count": 19,
   "metadata": {},
   "outputs": [
    {
     "name": "stderr",
     "output_type": "stream",
     "text": [
      "No. of week:   0%|          | 0/42 [00:00<?, ?it/s]"
     ]
    },
    {
     "name": "stdout",
     "output_type": "stream",
     "text": [
      "Preparing dataset...\n"
     ]
    },
    {
     "name": "stderr",
     "output_type": "stream",
     "text": [
      "No. of week: 100%|██████████| 42/42 [00:08<00:00,  4.81it/s]\n"
     ]
    }
   ],
   "source": [
    "print(\"Preparing dataset...\")\n",
    "\n",
    "nbr_weeks = int((valid_start - train_start).days/7)\n",
    "# def prepare_dataset(df, promo_features, start_time, is_train=True):\n",
    "\n",
    "X_l, y_l = [], []\n",
    "\n",
    "for i in tqdm(range(nbr_weeks),mininterval = 300, desc = 'No. of week'):\n",
    "    delta = timedelta(days=7 * i)\n",
    "    X_tmp, y_tmp = gen_dataset(\n",
    "        df_train,\n",
    "        promo_features,\n",
    "        train_start + delta\n",
    "    )\n",
    "    X_l.append(X_tmp)\n",
    "    y_l.append(y_tmp)\n",
    "#     break"
   ]
  },
  {
   "cell_type": "code",
   "execution_count": 20,
   "metadata": {},
   "outputs": [],
   "source": [
    "X_train = pd.concat(X_l, axis=0)\n",
    "y_train = np.concatenate(y_l, axis=0)\n",
    "del X_l, y_l"
   ]
  },
  {
   "cell_type": "code",
   "execution_count": 21,
   "metadata": {},
   "outputs": [],
   "source": [
    "\n",
    "X_val, y_val = gen_dataset(df_train, promo_features, valid_start)\n",
    "X_test = gen_dataset(df_train, promo_features, test_start, is_train=False)"
   ]
  },
  {
   "cell_type": "markdown",
   "metadata": {},
   "source": [
    "#### Train Model"
   ]
  },
  {
   "cell_type": "code",
   "execution_count": 26,
   "metadata": {},
   "outputs": [
    {
     "name": "stdout",
     "output_type": "stream",
     "text": [
      "Training and predicting models...\n"
     ]
    }
   ],
   "source": [
    "print(\"Training and predicting models...\")\n",
    "params = {\n",
    "    'num_leaves': 2**5 - 1,\n",
    "    'objective': 'regression_l2',\n",
    "    'max_depth': 8,\n",
    "    'min_data_in_leaf': 50,\n",
    "    'learning_rate': 0.05,\n",
    "    'feature_fraction': 0.75,\n",
    "    'bagging_fraction': 0.75,\n",
    "    'bagging_freq': 1,\n",
    "    'metric': 'l2',\n",
    "    'num_threads': 4\n",
    "}\n",
    "\n",
    "MAX_ROUNDS = 700\n",
    "val_pred = []\n",
    "test_pred = []\n",
    "cate_vars = []"
   ]
  },
  {
   "cell_type": "code",
   "execution_count": 27,
   "metadata": {},
   "outputs": [
    {
     "name": "stderr",
     "output_type": "stream",
     "text": [
      "\n",
      "\n",
      "  0%|          | 0/16 [00:00<?, ?it/s]\u001b[A\u001b[A"
     ]
    },
    {
     "name": "stdout",
     "output_type": "stream",
     "text": [
      "mean_7_sales: 25761281.25\n",
      "mean_14_sales: 13565388.16\n",
      "mean_30_sales: 3805744.59\n",
      "lag_1_sales: 1973163.88\n",
      "promo_0: 1346309.19\n",
      "mean_60_sales: 833364.90\n",
      "mean_3_sales: 474000.88\n",
      "lag_2_sales: 303897.88\n",
      "lag_14_sales: 249816.62\n",
      "lag_28_sales: 221985.03\n",
      "sum_14_promo: 216708.68\n",
      "promo_7: 165361.07\n",
      "lag_35_sales: 127290.83\n",
      "lag_7_sales: 119902.43\n",
      "lag_21_sales: 79211.37\n",
      "lag_5_sales: 55032.23\n",
      "promo_3: 39604.49\n",
      "promo_14: 37187.13\n",
      "promo_15: 28214.24\n",
      "promo_1: 17566.00\n",
      "promo_9: 16382.88\n",
      "promo_6: 14197.75\n",
      "promo_5: 12357.71\n",
      "promo_4: 10795.03\n",
      "promo_2: 9617.96\n",
      "promo_11: 8151.04\n",
      "promo_13: 5040.33\n",
      "promo_10: 5036.19\n",
      "promo_8: 4335.00\n",
      "sum_60_promo: 2726.03\n",
      "promo_12: 1755.47\n"
     ]
    },
    {
     "name": "stderr",
     "output_type": "stream",
     "text": [
      "\n",
      "\n",
      "  6%|▋         | 1/16 [03:56<59:03, 236.23s/it]\u001b[A\u001b[A"
     ]
    },
    {
     "name": "stdout",
     "output_type": "stream",
     "text": [
      "mean_7_sales: 19277636.84\n",
      "mean_14_sales: 14391371.01\n",
      "mean_30_sales: 3225710.07\n",
      "mean_60_sales: 1274420.77\n",
      "lag_1_sales: 898622.57\n",
      "promo_1: 841999.95\n",
      "mean_3_sales: 222263.29\n",
      "lag_2_sales: 171436.08\n",
      "lag_5_sales: 162252.85\n",
      "promo_0: 111229.47\n",
      "promo_3: 92581.60\n",
      "sum_14_promo: 73708.60\n",
      "lag_28_sales: 60954.24\n",
      "promo_5: 54927.08\n",
      "promo_7: 43946.19\n",
      "promo_2: 38461.55\n",
      "lag_7_sales: 37070.71\n",
      "promo_14: 24217.17\n",
      "promo_4: 23448.94\n",
      "lag_14_sales: 23015.61\n",
      "lag_35_sales: 21571.39\n",
      "lag_21_sales: 14102.23\n",
      "promo_8: 10089.50\n",
      "promo_6: 9886.49\n",
      "promo_15: 6674.41\n",
      "promo_9: 5026.78\n",
      "promo_11: 4635.79\n",
      "promo_10: 3048.42\n",
      "sum_60_promo: 2990.86\n",
      "promo_13: 2612.29\n",
      "promo_12: 1572.04\n"
     ]
    },
    {
     "name": "stderr",
     "output_type": "stream",
     "text": [
      "\n",
      "\n",
      " 12%|█▎        | 2/16 [07:43<54:31, 233.66s/it]\u001b[A\u001b[A"
     ]
    },
    {
     "name": "stdout",
     "output_type": "stream",
     "text": [
      "mean_14_sales: 19651037.58\n",
      "mean_7_sales: 17821638.92\n",
      "mean_30_sales: 3812610.11\n",
      "mean_60_sales: 1956586.76\n",
      "promo_2: 1336623.44\n",
      "lag_5_sales: 966007.26\n",
      "lag_1_sales: 323786.18\n",
      "mean_3_sales: 194325.22\n",
      "promo_9: 94903.01\n",
      "promo_3: 87090.37\n",
      "promo_7: 85218.06\n",
      "promo_0: 77387.23\n",
      "lag_28_sales: 75611.85\n",
      "sum_14_promo: 72698.58\n",
      "promo_5: 64287.43\n",
      "lag_2_sales: 54603.49\n",
      "promo_4: 53023.60\n",
      "lag_7_sales: 40711.55\n",
      "promo_1: 35619.97\n",
      "promo_10: 35427.62\n",
      "lag_35_sales: 27043.60\n",
      "promo_14: 26039.67\n",
      "promo_6: 25592.35\n",
      "lag_21_sales: 25284.68\n",
      "lag_14_sales: 22731.10\n",
      "promo_11: 20503.24\n",
      "promo_8: 14349.31\n",
      "promo_15: 12106.05\n",
      "promo_12: 5606.72\n",
      "sum_60_promo: 5605.16\n",
      "promo_13: 5521.77\n"
     ]
    },
    {
     "name": "stderr",
     "output_type": "stream",
     "text": [
      "\n",
      "\n",
      " 19%|█▉        | 3/16 [11:36<50:34, 233.40s/it]\u001b[A\u001b[A"
     ]
    },
    {
     "name": "stdout",
     "output_type": "stream",
     "text": [
      "mean_14_sales: 25000663.08\n",
      "mean_7_sales: 19468446.82\n",
      "mean_30_sales: 4572300.31\n",
      "mean_60_sales: 2430244.99\n",
      "promo_3: 849088.75\n",
      "mean_3_sales: 559860.80\n",
      "promo_7: 113541.53\n",
      "sum_14_promo: 93059.54\n",
      "lag_1_sales: 79594.81\n",
      "promo_0: 74762.45\n",
      "promo_5: 72944.76\n",
      "promo_1: 67763.40\n",
      "lag_7_sales: 66585.72\n",
      "lag_5_sales: 63855.54\n",
      "promo_2: 51656.27\n",
      "lag_2_sales: 48597.85\n",
      "promo_4: 42154.70\n",
      "promo_6: 37501.39\n",
      "promo_14: 28585.42\n",
      "lag_35_sales: 25624.98\n",
      "lag_28_sales: 24629.03\n",
      "lag_14_sales: 19189.21\n",
      "lag_21_sales: 18966.54\n",
      "promo_10: 14398.48\n",
      "promo_9: 10290.66\n",
      "promo_11: 7933.05\n",
      "sum_60_promo: 7003.81\n",
      "promo_13: 6815.80\n",
      "promo_8: 6676.34\n",
      "promo_15: 5177.09\n",
      "promo_12: 1808.85\n"
     ]
    },
    {
     "name": "stderr",
     "output_type": "stream",
     "text": [
      "\n",
      "\n",
      " 25%|██▌       | 4/16 [15:35<47:01, 235.12s/it]\u001b[A\u001b[A"
     ]
    },
    {
     "name": "stdout",
     "output_type": "stream",
     "text": [
      "mean_14_sales: 23215141.89\n",
      "mean_3_sales: 14514364.24\n",
      "mean_30_sales: 5268967.47\n",
      "mean_7_sales: 3925082.89\n",
      "mean_60_sales: 3817383.30\n",
      "promo_4: 1158013.74\n",
      "promo_3: 428163.48\n",
      "lag_2_sales: 303194.05\n",
      "lag_1_sales: 245510.08\n",
      "promo_1: 213217.89\n",
      "promo_7: 103501.64\n",
      "promo_0: 92702.24\n",
      "promo_2: 91862.09\n",
      "promo_5: 90915.71\n",
      "sum_14_promo: 69760.18\n",
      "promo_6: 53910.32\n",
      "lag_14_sales: 52828.45\n",
      "lag_5_sales: 48054.69\n",
      "promo_11: 40083.26\n",
      "lag_35_sales: 34623.44\n",
      "lag_28_sales: 34219.31\n",
      "promo_10: 32994.68\n",
      "lag_21_sales: 31468.45\n",
      "promo_14: 30432.94\n",
      "lag_7_sales: 24563.31\n",
      "promo_9: 19133.41\n",
      "promo_8: 16566.26\n",
      "promo_12: 7919.92\n",
      "promo_13: 7464.82\n",
      "sum_60_promo: 6078.18\n",
      "promo_15: 5569.76\n"
     ]
    },
    {
     "name": "stderr",
     "output_type": "stream",
     "text": [
      "\n",
      "\n",
      " 31%|███▏      | 5/16 [19:49<44:06, 240.61s/it]\u001b[A\u001b[A"
     ]
    },
    {
     "name": "stdout",
     "output_type": "stream",
     "text": [
      "mean_14_sales: 21568876.03\n",
      "mean_7_sales: 9115265.09\n",
      "mean_30_sales: 7090988.36\n",
      "mean_60_sales: 3723310.45\n",
      "mean_3_sales: 1759216.96\n",
      "promo_5: 935894.67\n",
      "lag_2_sales: 524310.15\n",
      "lag_1_sales: 338576.48\n",
      "promo_7: 146179.83\n",
      "promo_3: 115376.19\n",
      "promo_6: 69220.55\n",
      "sum_14_promo: 61992.88\n",
      "promo_1: 52683.24\n",
      "promo_0: 48945.54\n",
      "promo_14: 33393.18\n",
      "lag_7_sales: 30562.80\n",
      "promo_2: 29752.18\n",
      "lag_35_sales: 28741.55\n",
      "lag_5_sales: 27067.80\n",
      "lag_28_sales: 27021.71\n",
      "lag_14_sales: 23219.87\n",
      "promo_4: 22911.85\n",
      "lag_21_sales: 22131.15\n",
      "promo_10: 19628.52\n",
      "promo_13: 12839.00\n",
      "promo_12: 12121.24\n",
      "promo_9: 9178.11\n",
      "promo_8: 7990.99\n",
      "promo_11: 7876.97\n",
      "promo_15: 7781.06\n",
      "sum_60_promo: 3187.42\n"
     ]
    },
    {
     "name": "stderr",
     "output_type": "stream",
     "text": [
      "\n",
      "\n",
      " 38%|███▊      | 6/16 [23:43<39:45, 238.60s/it]\u001b[A\u001b[A"
     ]
    },
    {
     "name": "stdout",
     "output_type": "stream",
     "text": [
      "mean_14_sales: 20304768.76\n",
      "mean_30_sales: 8722280.11\n",
      "mean_7_sales: 6964687.94\n",
      "mean_60_sales: 3318678.24\n",
      "promo_6: 1536611.98\n",
      "lag_1_sales: 1068735.78\n",
      "mean_3_sales: 830694.09\n",
      "lag_2_sales: 259004.03\n",
      "promo_7: 182621.19\n",
      "promo_3: 116926.66\n",
      "promo_13: 89009.64\n",
      "sum_14_promo: 79045.91\n",
      "promo_0: 63187.12\n",
      "promo_14: 46561.34\n",
      "promo_5: 45647.10\n",
      "lag_28_sales: 41089.26\n",
      "promo_1: 36654.42\n",
      "lag_21_sales: 34813.84\n",
      "promo_4: 34580.23\n",
      "lag_5_sales: 29461.62\n",
      "lag_35_sales: 28216.84\n",
      "promo_2: 27935.47\n",
      "promo_15: 27373.87\n",
      "lag_7_sales: 26969.64\n",
      "lag_14_sales: 23611.76\n",
      "promo_9: 16803.70\n",
      "promo_10: 12509.40\n",
      "promo_11: 7739.34\n",
      "promo_12: 7661.89\n",
      "promo_8: 6707.69\n",
      "sum_60_promo: 3671.80\n"
     ]
    },
    {
     "name": "stderr",
     "output_type": "stream",
     "text": [
      "\n",
      "\n",
      " 44%|████▍     | 7/16 [27:41<35:46, 238.49s/it]\u001b[A\u001b[A"
     ]
    },
    {
     "name": "stdout",
     "output_type": "stream",
     "text": [
      "mean_14_sales: 18548220.54\n",
      "mean_7_sales: 11786755.58\n",
      "mean_30_sales: 8255189.61\n",
      "mean_60_sales: 3623585.18\n",
      "promo_7: 2087141.35\n",
      "lag_1_sales: 357116.35\n",
      "promo_0: 356365.27\n",
      "promo_14: 236113.07\n",
      "sum_14_promo: 206147.25\n",
      "lag_21_sales: 204875.04\n",
      "mean_3_sales: 191583.53\n",
      "lag_7_sales: 157448.00\n",
      "lag_2_sales: 143486.17\n",
      "lag_35_sales: 141864.56\n",
      "lag_28_sales: 136059.02\n",
      "lag_14_sales: 82937.86\n",
      "promo_6: 43652.64\n",
      "lag_5_sales: 42720.52\n",
      "promo_15: 35464.82\n",
      "promo_3: 35046.06\n",
      "promo_8: 31123.03\n",
      "promo_5: 29573.44\n",
      "promo_9: 29216.81\n",
      "promo_10: 20457.55\n",
      "promo_2: 18464.54\n",
      "promo_4: 15209.52\n",
      "promo_1: 11997.53\n",
      "promo_13: 10481.95\n",
      "promo_11: 8215.59\n",
      "promo_12: 7898.67\n",
      "sum_60_promo: 5410.67\n"
     ]
    },
    {
     "name": "stderr",
     "output_type": "stream",
     "text": [
      "\n",
      "\n",
      " 50%|█████     | 8/16 [31:37<31:41, 237.63s/it]\u001b[A\u001b[A"
     ]
    },
    {
     "name": "stdout",
     "output_type": "stream",
     "text": [
      "mean_14_sales: 13410826.28\n",
      "mean_7_sales: 9059385.37\n",
      "mean_30_sales: 8891679.12\n",
      "mean_60_sales: 4981757.23\n",
      "promo_8: 1334774.47\n",
      "lag_1_sales: 317114.02\n",
      "promo_7: 166431.50\n",
      "mean_3_sales: 154936.98\n",
      "lag_5_sales: 90651.53\n",
      "promo_1: 83758.43\n",
      "promo_10: 83558.61\n",
      "lag_21_sales: 71712.20\n",
      "sum_14_promo: 67472.18\n",
      "promo_14: 60241.69\n",
      "promo_9: 52183.45\n",
      "promo_0: 51853.61\n",
      "promo_3: 51252.96\n",
      "lag_35_sales: 44391.21\n",
      "promo_12: 41530.36\n",
      "lag_2_sales: 39466.92\n",
      "lag_28_sales: 32161.55\n",
      "lag_7_sales: 28093.49\n",
      "lag_14_sales: 20888.77\n",
      "promo_11: 20491.01\n",
      "promo_13: 18886.17\n",
      "promo_6: 18339.01\n",
      "promo_2: 16051.88\n",
      "promo_15: 15893.98\n",
      "promo_4: 15064.42\n",
      "promo_5: 9558.43\n",
      "sum_60_promo: 4682.21\n"
     ]
    },
    {
     "name": "stderr",
     "output_type": "stream",
     "text": [
      "\n",
      "\n",
      " 56%|█████▋    | 9/16 [35:27<27:27, 235.36s/it]\u001b[A\u001b[A"
     ]
    },
    {
     "name": "stdout",
     "output_type": "stream",
     "text": [
      "mean_14_sales: 16360738.86\n",
      "mean_30_sales: 9792689.26\n",
      "mean_7_sales: 9068688.18\n",
      "mean_60_sales: 5818784.73\n",
      "promo_9: 1803272.60\n",
      "lag_5_sales: 788401.19\n",
      "promo_2: 237732.18\n",
      "mean_3_sales: 153750.94\n",
      "promo_7: 128868.18\n",
      "lag_1_sales: 125130.12\n",
      "promo_10: 119595.59\n",
      "promo_14: 106064.56\n",
      "lag_21_sales: 78936.71\n",
      "sum_14_promo: 75802.31\n",
      "promo_0: 60258.20\n",
      "promo_8: 53806.13\n",
      "promo_12: 53369.67\n",
      "lag_35_sales: 52230.51\n",
      "promo_3: 40582.61\n",
      "promo_11: 39500.10\n",
      "lag_2_sales: 37267.00\n",
      "lag_28_sales: 36882.06\n",
      "lag_7_sales: 33132.74\n",
      "promo_1: 31629.52\n",
      "lag_14_sales: 30355.17\n",
      "promo_13: 29813.45\n",
      "promo_6: 16959.71\n",
      "promo_15: 15346.27\n",
      "promo_4: 10938.73\n",
      "sum_60_promo: 8383.15\n",
      "promo_5: 5670.39\n"
     ]
    },
    {
     "name": "stderr",
     "output_type": "stream",
     "text": [
      "\n",
      "\n",
      " 62%|██████▎   | 10/16 [39:15<23:20, 233.40s/it]\u001b[A\u001b[A"
     ]
    },
    {
     "name": "stdout",
     "output_type": "stream",
     "text": [
      "mean_14_sales: 18374401.08\n",
      "mean_30_sales: 12288637.07\n",
      "mean_7_sales: 11080408.22\n",
      "mean_60_sales: 7083477.59\n",
      "promo_10: 1252166.00\n",
      "mean_3_sales: 355496.66\n",
      "promo_14: 148934.07\n",
      "promo_7: 123510.48\n",
      "promo_12: 117536.28\n",
      "promo_3: 99958.06\n",
      "promo_9: 96201.19\n",
      "sum_14_promo: 86092.84\n",
      "promo_13: 61345.64\n",
      "lag_1_sales: 55359.17\n",
      "lag_5_sales: 54193.11\n",
      "lag_7_sales: 48870.25\n",
      "promo_8: 47094.13\n",
      "promo_11: 46463.42\n",
      "promo_1: 40749.53\n",
      "promo_0: 40691.83\n",
      "lag_35_sales: 37665.02\n",
      "lag_2_sales: 36820.72\n",
      "lag_28_sales: 34751.48\n",
      "lag_21_sales: 27560.21\n",
      "lag_14_sales: 22598.10\n",
      "promo_6: 18715.19\n",
      "promo_15: 16514.99\n",
      "promo_2: 14889.29\n",
      "promo_4: 10548.35\n",
      "sum_60_promo: 8283.83\n",
      "promo_5: 3408.29\n"
     ]
    },
    {
     "name": "stderr",
     "output_type": "stream",
     "text": [
      "\n",
      "\n",
      " 69%|██████▉   | 11/16 [43:10<19:28, 233.67s/it]\u001b[A\u001b[A"
     ]
    },
    {
     "name": "stdout",
     "output_type": "stream",
     "text": [
      "mean_30_sales: 20323639.27\n",
      "mean_60_sales: 11306444.69\n",
      "mean_14_sales: 6718712.54\n",
      "mean_7_sales: 5883850.39\n",
      "mean_3_sales: 2933432.18\n",
      "promo_11: 1569219.86\n",
      "promo_10: 487681.90\n",
      "promo_12: 182606.65\n",
      "promo_8: 174688.16\n",
      "promo_14: 160617.49\n",
      "lag_2_sales: 134230.23\n",
      "promo_9: 123431.10\n",
      "lag_1_sales: 117483.06\n",
      "promo_7: 114268.13\n",
      "sum_14_promo: 88734.56\n",
      "promo_13: 82912.54\n",
      "promo_4: 70024.25\n",
      "lag_35_sales: 56410.03\n",
      "lag_5_sales: 46492.99\n",
      "lag_28_sales: 46278.27\n",
      "promo_3: 45790.32\n",
      "lag_21_sales: 39651.94\n",
      "lag_14_sales: 30081.08\n",
      "promo_1: 29537.33\n",
      "promo_0: 29238.06\n",
      "lag_7_sales: 28786.79\n",
      "promo_15: 22382.93\n",
      "promo_6: 15388.68\n",
      "promo_2: 14046.16\n",
      "sum_60_promo: 10854.94\n",
      "promo_5: 5216.25\n"
     ]
    },
    {
     "name": "stderr",
     "output_type": "stream",
     "text": [
      "\n",
      "\n",
      " 75%|███████▌  | 12/16 [47:17<15:51, 237.84s/it]\u001b[A\u001b[A"
     ]
    },
    {
     "name": "stdout",
     "output_type": "stream",
     "text": [
      "mean_30_sales: 14889945.33\n",
      "mean_14_sales: 12513047.36\n",
      "mean_60_sales: 6432635.62\n",
      "mean_7_sales: 5047891.70\n",
      "mean_3_sales: 2850127.57\n",
      "promo_12: 1315392.29\n",
      "lag_2_sales: 243790.05\n",
      "promo_14: 199553.46\n",
      "lag_1_sales: 123774.75\n",
      "promo_10: 111367.62\n",
      "promo_13: 90352.42\n",
      "promo_3: 73339.73\n",
      "promo_7: 58686.46\n",
      "sum_14_promo: 58035.69\n",
      "promo_0: 52632.17\n",
      "lag_35_sales: 46302.76\n",
      "promo_9: 41464.79\n",
      "lag_28_sales: 33086.94\n",
      "lag_21_sales: 30798.71\n",
      "promo_11: 30384.51\n",
      "promo_5: 28931.93\n",
      "promo_1: 27297.00\n",
      "promo_8: 26633.78\n",
      "lag_14_sales: 24566.93\n",
      "lag_5_sales: 23212.97\n",
      "promo_15: 22865.46\n",
      "lag_7_sales: 19875.72\n",
      "promo_6: 17193.82\n",
      "promo_2: 14648.25\n",
      "promo_4: 11608.52\n",
      "sum_60_promo: 7163.08\n"
     ]
    },
    {
     "name": "stderr",
     "output_type": "stream",
     "text": [
      "\n",
      "\n",
      " 81%|████████▏ | 13/16 [51:40<12:16, 245.34s/it]\u001b[A\u001b[A"
     ]
    },
    {
     "name": "stdout",
     "output_type": "stream",
     "text": [
      "mean_30_sales: 15308331.25\n",
      "mean_14_sales: 11048068.85\n",
      "mean_60_sales: 6308320.95\n",
      "mean_7_sales: 4499966.41\n",
      "mean_3_sales: 2067417.38\n",
      "promo_13: 1819663.96\n",
      "lag_1_sales: 571858.37\n",
      "promo_14: 291450.42\n",
      "promo_6: 131972.15\n",
      "promo_12: 118264.18\n",
      "promo_10: 89365.89\n",
      "sum_14_promo: 79966.98\n",
      "lag_2_sales: 77890.33\n",
      "promo_0: 68854.32\n",
      "promo_7: 53059.18\n",
      "lag_21_sales: 48612.61\n",
      "lag_35_sales: 45136.30\n",
      "promo_9: 37067.81\n",
      "lag_28_sales: 35220.08\n",
      "promo_3: 33500.50\n",
      "lag_14_sales: 33024.42\n",
      "promo_11: 31633.72\n",
      "lag_5_sales: 25645.41\n",
      "lag_7_sales: 24271.00\n",
      "promo_15: 20923.38\n",
      "promo_2: 18087.26\n",
      "promo_8: 17626.16\n",
      "promo_1: 9274.48\n",
      "promo_5: 8579.82\n",
      "promo_4: 7827.78\n",
      "sum_60_promo: 7346.66\n"
     ]
    },
    {
     "name": "stderr",
     "output_type": "stream",
     "text": [
      "\n",
      "\n",
      " 88%|████████▊ | 14/16 [55:11<07:50, 235.02s/it]\u001b[A\u001b[A"
     ]
    },
    {
     "name": "stdout",
     "output_type": "stream",
     "text": [
      "mean_30_sales: 14857169.01\n",
      "mean_14_sales: 14158477.15\n",
      "mean_60_sales: 7038453.39\n",
      "mean_7_sales: 4481605.01\n",
      "promo_14: 2635469.78\n",
      "mean_3_sales: 397706.78\n",
      "sum_14_promo: 232933.95\n",
      "promo_7: 231771.45\n",
      "lag_14_sales: 227235.91\n",
      "promo_0: 205934.02\n",
      "lag_1_sales: 189993.32\n",
      "lag_21_sales: 146556.79\n",
      "lag_35_sales: 144093.41\n",
      "lag_28_sales: 142069.21\n",
      "lag_2_sales: 98715.29\n",
      "lag_7_sales: 93258.32\n",
      "promo_15: 76820.50\n",
      "promo_13: 76713.24\n",
      "promo_12: 49246.75\n",
      "promo_2: 47643.10\n",
      "lag_5_sales: 36412.45\n",
      "promo_10: 34602.97\n",
      "promo_6: 30999.94\n",
      "promo_9: 29704.94\n",
      "promo_8: 16162.48\n",
      "promo_11: 14874.29\n",
      "promo_3: 14512.51\n",
      "promo_1: 13575.39\n",
      "promo_5: 9641.74\n",
      "sum_60_promo: 8946.82\n",
      "promo_4: 5385.70\n"
     ]
    },
    {
     "name": "stderr",
     "output_type": "stream",
     "text": [
      "\n",
      "\n",
      " 94%|█████████▍| 15/16 [58:58<03:52, 232.66s/it]\u001b[A\u001b[A"
     ]
    },
    {
     "name": "stdout",
     "output_type": "stream",
     "text": [
      "mean_30_sales: 13706651.18\n",
      "mean_14_sales: 10888646.50\n",
      "mean_60_sales: 8486560.71\n",
      "mean_7_sales: 2092594.48\n",
      "promo_15: 1456321.42\n",
      "promo_14: 322739.27\n",
      "lag_1_sales: 216847.35\n",
      "mean_3_sales: 157113.45\n",
      "sum_14_promo: 92897.95\n",
      "lag_14_sales: 68543.90\n",
      "lag_35_sales: 54973.30\n",
      "lag_5_sales: 51776.18\n",
      "promo_1: 49403.08\n",
      "lag_28_sales: 44862.02\n",
      "promo_7: 44419.89\n",
      "promo_0: 42085.32\n",
      "promo_3: 40025.90\n",
      "promo_10: 37238.88\n",
      "promo_13: 35498.94\n",
      "promo_8: 32915.70\n",
      "lag_7_sales: 30310.65\n",
      "lag_2_sales: 29866.99\n",
      "promo_12: 27927.08\n",
      "lag_21_sales: 27504.36\n",
      "promo_9: 19742.94\n",
      "promo_2: 16763.71\n",
      "promo_11: 13975.48\n",
      "promo_6: 12202.34\n",
      "sum_60_promo: 9019.04\n",
      "promo_5: 6405.76\n",
      "promo_4: 6255.90\n"
     ]
    },
    {
     "name": "stderr",
     "output_type": "stream",
     "text": [
      "\n",
      "\n",
      "100%|██████████| 16/16 [1:02:30<00:00, 226.48s/it]\u001b[A\u001b[A"
     ]
    }
   ],
   "source": [
    "for i in tqdm(range(16)):\n",
    "    dtrain = lgb.Dataset(\n",
    "        X_train, label=y_train[:, i],\n",
    "        categorical_feature=cate_vars,\n",
    "        weight=pd.concat([items[\"perishable\"]] * nbr_weeks) * 0.25 + 1\n",
    "    )\n",
    "    dval = lgb.Dataset(\n",
    "        X_val, label=y_val[:, i], reference=dtrain,\n",
    "        weight=items[\"perishable\"] * 0.25 + 1,\n",
    "        categorical_feature=cate_vars)\n",
    "\n",
    "    bst = lgb.train(\n",
    "        params, dtrain, num_boost_round=MAX_ROUNDS, verbose_eval = False,\n",
    "        valid_sets=[dtrain, dval], early_stopping_rounds=50)\n",
    "    print(\"\\n\".join((\"%s: %.2f\" % x) for x in sorted(\n",
    "        zip(X_train.columns, bst.feature_importance(\"gain\")),\n",
    "        key=lambda x: x[1], reverse=True\n",
    "    )))\n",
    "    val_pred.append(bst.predict(\n",
    "        X_val, num_iteration=bst.best_iteration or MAX_ROUNDS))\n",
    "    test_pred.append(bst.predict(\n",
    "        X_test, num_iteration=bst.best_iteration or MAX_ROUNDS))\n",
    "    \n"
   ]
  },
  {
   "cell_type": "markdown",
   "metadata": {},
   "source": [
    "#### Generate submission"
   ]
  },
  {
   "cell_type": "code",
   "execution_count": 33,
   "metadata": {},
   "outputs": [
    {
     "name": "stdout",
     "output_type": "stream",
     "text": [
      "Validation mse: 0.35993314268047283\n"
     ]
    }
   ],
   "source": [
    "mse = mean_squared_error(y_val, np.array(val_pred).transpose())\n",
    "\n",
    "mlflow.set_experiment('grocery forecasting')\n",
    "with mlflow.start_run(run_name='lgbm'):\n",
    "    mlflow.log_param('model', 'lgbm')\n",
    "    mlflow.log_param('train starts', train_start)\n",
    "    mlflow.log_params(params)\n",
    "    mlflow.log_param('lagging', LAG_DICT.values())\n",
    "    mlflow.log_param('slidingWindows', SLIDING_DICT.values())\n",
    "    mlflow.log_metric('mse', mse)\n",
    "    \n",
    "print(\"Validation mse:\", mse)"
   ]
  },
  {
   "cell_type": "code",
   "execution_count": null,
   "metadata": {},
   "outputs": [],
   "source": [
    "print(\"Making submission...\")\n",
    "y_test = np.array(test_pred).transpose()\n",
    "df_preds = pd.DataFrame(\n",
    "    y_test, index=df_train.index,\n",
    "    columns=pd.date_range(\"2017-08-16\", periods=16)\n",
    ").stack().to_frame(\"unit_sales\")\n",
    "df_preds.index.set_names([\"store_nbr\", \"item_nbr\", \"date\"], inplace=True)\n",
    "\n",
    "submission = df_test[[\"id\"]].join(df_preds, how=\"left\").fillna(0)\n",
    "submission[\"unit_sales\"] = np.clip(np.expm1(submission[\"unit_sales\"]), 0, 1000)\n",
    "submission.to_csv('lgb.csv', float_format='%.4f', index=None)"
   ]
  }
 ],
 "metadata": {
  "kernelspec": {
   "display_name": "Python 3",
   "language": "python",
   "name": "python3"
  },
  "language_info": {
   "codemirror_mode": {
    "name": "ipython",
    "version": 3
   },
   "file_extension": ".py",
   "mimetype": "text/x-python",
   "name": "python",
   "nbconvert_exporter": "python",
   "pygments_lexer": "ipython3",
   "version": "3.7.3"
  }
 },
 "nbformat": 4,
 "nbformat_minor": 4
}
