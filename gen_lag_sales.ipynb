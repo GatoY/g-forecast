{
 "cells": [
  {
   "cell_type": "code",
   "execution_count": 1,
   "metadata": {},
   "outputs": [
    {
     "name": "stderr",
     "output_type": "stream",
     "text": [
      "/Users/liuyu/Desktop/g-forecast/config.py:8: YAMLLoadWarning: calling yaml.load() without Loader=... is deprecated, as the default Loader is unsafe. Please read https://msg.pyyaml.org/load for full details.\n",
      "  config = yaml.load(f)\n"
     ]
    },
    {
     "name": "stdout",
     "output_type": "stream",
     "text": [
      "-------------------------------------------------------------\n",
      "configurations: \n",
      "{\n",
      "  \"storeId\": null,\n",
      "  \"influence_sheet\": \"\",\n",
      "  \"influence_min\": 0,\n",
      "  \"influence_max\": 0,\n",
      "  \"predict_start_date\": \"2019-06-23\",\n",
      "  \"predict_length\": 35,\n",
      "  \"lag_length\": 50,\n",
      "  \"lag_cols\": [\n",
      "    \"Sales\"\n",
      "  ],\n",
      "  \"sliding_window_length\": 50,\n",
      "  \"sliding_cols\": [\n",
      "    \"Sales\"\n",
      "  ],\n",
      "  \"model_list\": [\n",
      "    \"LGBMRegressor\"\n",
      "  ],\n",
      "  \"peak_period\": [\n",
      "    \"2017-12-08\",\n",
      "    \"2018-02-08\",\n",
      "    \"2018-12-10\",\n",
      "    \"2019-02-10\"\n",
      "  ]\n",
      "}\n",
      "-------------------------------------------------------------\n"
     ]
    }
   ],
   "source": [
    "# -------------- #\n",
    "\n",
    "import pandas as pd\n",
    "import os\n",
    "import datetime\n",
    "import math\n",
    "\n",
    "import load_data\n",
    "from util_log import logger\n",
    "# from featureEng import (\n",
    "# )\n",
    "# from models import grid_search\n",
    "from config import (\n",
    "    FEATUER_DIR,\n",
    "    LAG_COLS,\n",
    "    LAG_LENGTH\n",
    ")\n",
    "\n",
    "import run_model\n",
    "\n",
    "# valid period. '2017-07-31' to '2017-08-16'\n",
    "SPLIT_DATE = datetime.date(2017,7, 31)\n",
    "\n",
    "def lagging(df,\n",
    "            lag_len=50,\n",
    "            lag_cols=['unit_sales']\n",
    "            ):\n",
    "    \"\"\" Generate lagging features.\n",
    "    Args:\n",
    "        df: a DataFrame, contains all columns in cols_lag\n",
    "        len_lag: Int, the length of lagging features\n",
    "        cols_lag: List of String, the columns needs to generate lagging features \n",
    "\n",
    "    Returns:\n",
    "        df: a DataFrame with lagging features, for example 'Sales_lag_1'.\n",
    "    \"\"\"\n",
    "\n",
    "    # lag\n",
    "    for lag in range(1, lag_len):\n",
    "        _df_shift = df[lag_cols].shift(periods=lag)\n",
    "        for col in lag_cols:\n",
    "            df[col + '_lag_' + str(lag)] = _df_shift[col]\n",
    "    return df"
   ]
  },
  {
   "cell_type": "code",
   "execution_count": 2,
   "metadata": {},
   "outputs": [
    {
     "name": "stderr",
     "output_type": "stream",
     "text": [
      "Get raw data\n",
      "/Users/liuyu/anaconda3/lib/python3.7/site-packages/IPython/core/interactiveshell.py:3296: DtypeWarning: Columns (5) have mixed types. Specify dtype option on import or set low_memory=False.\n",
      "  exec(code_obj, self.user_global_ns, self.user_ns)\n",
      "/Users/liuyu/anaconda3/lib/python3.7/site-packages/ipykernel_launcher.py:4: FutureWarning: Comparing Series of datetimes with 'datetime.date'.  Currently, the\n",
      "'datetime.date' is coerced to a datetime. In the future pandas will\n",
      "not coerce, and a TypeError will be raised. To retain the current\n",
      "behavior, convert the 'datetime.date' to a datetime with\n",
      "'pd.Timestamp'.\n",
      "  after removing the cwd from sys.path.\n"
     ]
    }
   ],
   "source": [
    "logger.debug('Get raw data')\n",
    "train_df, test_df = load_data.main()\n",
    "train_df = train_df[['date', 'store_nbr', 'item_nbr', 'unit_sales']]\n",
    "train_df = train_df[train_df['date']>=datetime.date(2016, 1, 1)]\n",
    "train_df = train_df.dropna()\n"
   ]
  },
  {
   "cell_type": "code",
   "execution_count": 3,
   "metadata": {},
   "outputs": [
    {
     "name": "stderr",
     "output_type": "stream",
     "text": [
      "25\n",
      "1\n",
      "2\n",
      "3\n",
      "4\n",
      "5\n",
      "6\n",
      "7\n",
      "8\n",
      "9\n",
      "10\n",
      "11\n",
      "12\n",
      "13\n",
      "14\n",
      "15\n",
      "16\n",
      "17\n",
      "18\n",
      "19\n",
      "20\n",
      "21\n",
      "22\n",
      "23\n",
      "24\n",
      "26\n",
      "27\n",
      "28\n",
      "29\n",
      "30\n",
      "31\n",
      "32\n",
      "33\n",
      "34\n",
      "35\n",
      "36\n",
      "37\n",
      "38\n",
      "39\n",
      "40\n",
      "41\n",
      "42\n",
      "43\n",
      "44\n",
      "45\n",
      "46\n",
      "47\n",
      "48\n",
      "49\n",
      "50\n",
      "51\n",
      "53\n",
      "54\n",
      "52\n"
     ]
    }
   ],
   "source": [
    "storeId_list = train_df['store_nbr'].unique()\n",
    "# logger.debug('Filling missing value, lag, sliding window')\n",
    "for storeId in storeId_list:\n",
    "    store_frame = train_df[train_df['store_nbr'] == storeId]\n",
    "    item_list = store_frame.item_nbr.unique()\n",
    "    logger.debug(storeId)\n",
    "    count = 0\n",
    "\n",
    "    for itemId in item_list:\n",
    "        item_frame = store_frame[store_frame['item_nbr']==itemId]\n",
    "        item_frame = item_frame.sort_values(by=['date'])\n",
    "        item_frame = item_frame.reset_index(drop=True)\n",
    "        item_frame = lagging(\n",
    "            item_frame,\n",
    "            lag_len=LAG_LENGTH, \n",
    "            lag_cols=LAG_COLS)\n",
    "\n",
    "        if count == 0:\n",
    "            df = item_frame\n",
    "        else:\n",
    "            df = pd.concat([df, item_frame])\n",
    "        count += 1\n",
    "\n",
    "    df.to_csv(FEATUER_DIR+'{}_lag_sales.csv'.format(storeId), index=False)\n",
    "    del df"
   ]
  },
  {
   "cell_type": "code",
   "execution_count": null,
   "metadata": {},
   "outputs": [],
   "source": []
  }
 ],
 "metadata": {
  "kernelspec": {
   "display_name": "Python 3",
   "language": "python",
   "name": "python3"
  },
  "language_info": {
   "codemirror_mode": {
    "name": "ipython",
    "version": 3
   },
   "file_extension": ".py",
   "mimetype": "text/x-python",
   "name": "python",
   "nbconvert_exporter": "python",
   "pygments_lexer": "ipython3",
   "version": "3.7.3"
  }
 },
 "nbformat": 4,
 "nbformat_minor": 2
}
