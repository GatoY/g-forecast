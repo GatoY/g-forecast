{
 "cells": [
  {
   "cell_type": "markdown",
   "metadata": {},
   "source": [
    "## Features\n",
    "\n",
    "- [] unit_sales\n",
    "  - [] lagging feature\n",
    "  - [] sliding windows features\n",
    "    - [] mean\n",
    "    - [] std\n",
    "    - [] max\n",
    "    - [] min\n",
    "- [] transactions\n",
    "- [] promotions\n",
    "- [] special days\n",
    "  - [] categorical\n",
    "  - [] Prophet influence\n",
    "- [] store\n",
    "  - [] state\n",
    "  - [] city\n",
    "  - [] type\n",
    "  - [] cluster\n",
    "- [] item\n",
    "  - [] item nbr\n",
    "  - [] family\n",
    "  - [] class\n",
    "  - [] perishable\n",
    "- [] oil\n",
    "  - [] price\n"
   ]
  },
  {
   "cell_type": "markdown",
   "metadata": {},
   "source": [
    "## Models\n",
    "\n",
    "- [] Baseline Model\n",
    "  - [] Average: Pure average model by weekday.\n",
    "\n",
    "- [] Stats Model\n",
    "  - [] SES: SimpleExpSmoothing\n",
    "  - [] ES: ExponentialSmoothing\n",
    "  - [] Holt\n",
    "  - [] ARIMA\n",
    "\n",
    "- [] Ensemble Model\n",
    "  - [] RF: Random Forest\n",
    "  - [] XGBoost\n",
    "  - [] LGBM\n",
    "  - [] CatBoost"
   ]
  },
  {
   "cell_type": "markdown",
   "metadata": {},
   "source": [
    "## Way to predict\n",
    "\n",
    "- [] Step by step\n",
    "- [] One model for one day\n",
    "- [] Period2Period: Seq2Seq model"
   ]
  },
  {
   "cell_type": "markdown",
   "metadata": {},
   "source": [
    "## Training Data Period Selection\n",
    "\n",
    "- [] All data\n",
    "- [] Filter peak period"
   ]
  },
  {
   "cell_type": "markdown",
   "metadata": {},
   "source": [
    "## Preprocessing\n",
    "\n",
    "- [] Missing Value Filling\n",
    "- [] Outlier Remove"
   ]
  },
  {
   "cell_type": "markdown",
   "metadata": {},
   "source": [
    "## Future Improvements\n",
    "\n",
    "- Outsourcing data sets. \n",
    "  - weather data\n",
    "  - GDP of different cities\n",
    "  - Population Growth of different cities\n",
    "\n",
    "- Try more trianing modes\n",
    "  - Step by step\n",
    "  - Period2Period\n",
    "\n",
    "- Go deep & wide like Google did"
   ]
  },
  {
   "cell_type": "code",
   "execution_count": 3,
   "metadata": {},
   "outputs": [],
   "source": [
    "import pandas as pd"
   ]
  },
  {
   "cell_type": "code",
   "execution_count": null,
   "metadata": {},
   "outputs": [],
   "source": []
  }
 ],
 "metadata": {
  "kernelspec": {
   "display_name": "Python 3",
   "language": "python",
   "name": "python3"
  },
  "language_info": {
   "codemirror_mode": {
    "name": "ipython",
    "version": 3
   },
   "file_extension": ".py",
   "mimetype": "text/x-python",
   "name": "python",
   "nbconvert_exporter": "python",
   "pygments_lexer": "ipython3",
   "version": "3.6.5"
  }
 },
 "nbformat": 4,
 "nbformat_minor": 4
}
