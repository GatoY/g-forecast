{
 "cells": [
  {
   "cell_type": "markdown",
   "metadata": {},
   "source": [
    "## TODO\n",
    "\n",
    "- [] Data Analysis with visualization\n",
    "- [] Data preprocess   \n",
    "  - [] Find out whether all items in train datasets appear in test sets. If not, then we can either filter those non-appear items or just train all data.\n",
    "- [] Feature Development\n",
    "  - [] Feature selection: Use RF's feature importance. Filter those irrelevant features because finite datasets may let models wrongly detect the relation between irrelevant features and labels\n",
    "- [] Models\n",
    "- [] Train, Test and Comparison of different combination of features and models\n"
   ]
  },
  {
   "cell_type": "markdown",
   "metadata": {},
   "source": [
    "## Features\n",
    "\n",
    "- [] unit_sales\n",
    "  - [x] lagging feature\n",
    "  - [] sliding windows features\n",
    "    - [] mean\n",
    "    - [] std\n",
    "    - [] max\n",
    "    - [] min\n",
    "- [x] datetime\n",
    "  - [x] weekday\n",
    "  - [x] month\n",
    "- [x] transactions\n",
    "- [x] promotions\n",
    "- [] special days\n",
    "  - [] categorical\n",
    "  - [] Prophet influence\n",
    "- [] store\n",
    "  - [x] state\n",
    "  - [x] city\n",
    "  - [x] type\n",
    "  - [x] cluster\n",
    "- [] item\n",
    "  - [x] item nbr\n",
    "  - [x] family\n",
    "  - [x] class\n",
    "  - [x] perishable\n",
    "- [] oil\n",
    "  - [x] price\n"
   ]
  },
  {
   "cell_type": "markdown",
   "metadata": {},
   "source": [
    "## Models\n",
    "\n",
    "- [] Baseline Model\n",
    "  - [] Average: Pure average model by weekday.\n",
    "\n",
    "- [] Stats Model\n",
    "  - [] SES: SimpleExpSmoothing\n",
    "  - [] ES: ExponentialSmoothing\n",
    "  - [] Holt\n",
    "  - [] ARIMA\n",
    "\n",
    "- [] Ensemble Model\n",
    "  - [] RF: Random Forest\n",
    "  - [] XGBoost\n",
    "  - [] LGBM\n",
    "  - [] CatBoost\n",
    " \n",
    "- [] Stacked Model\n",
    "  - [] XGBoost + LGBM\n",
    "  - [] XGBoost + CatBoost\n",
    "  - [] LGBM + CatBoost"
   ]
  },
  {
   "cell_type": "markdown",
   "metadata": {},
   "source": [
    "## Way to predict\n",
    "\n",
    "- [] Step by step\n",
    "- [] One model for one day\n",
    "- [] Period2Period: Seq2Seq model"
   ]
  },
  {
   "cell_type": "markdown",
   "metadata": {},
   "source": [
    "## Training Data Period Selection\n",
    "\n",
    "- [] All data\n",
    "- [] Filter peak period"
   ]
  },
  {
   "cell_type": "markdown",
   "metadata": {},
   "source": [
    "## Preprocessing\n",
    "\n",
    "- [] Missing Value Filling\n",
    "- [] Outlier Remove"
   ]
  },
  {
   "cell_type": "markdown",
   "metadata": {},
   "source": [
    "## Future Improvements\n",
    "\n",
    "- Outsourcing data sets. \n",
    "  - weather data\n",
    "  - GDP of different cities\n",
    "  - Population Growth of different cities\n",
    "  - Store location: whether it's in the shopping center or on the street\n",
    "\n",
    "- Try more trianing modes\n",
    "  - Step by step\n",
    "  - Period2Period\n",
    "\n",
    "- Go deep & wide like Google did"
   ]
  },
  {
   "cell_type": "markdown",
   "metadata": {},
   "source": [
    "### Test Period\n",
    "\n",
    "2017-08-16 to 2017-08-31\n",
    "\n",
    "### Valid Period\n",
    "\n",
    "2017-07-31 to 2017-08-15"
   ]
  },
  {
   "cell_type": "code",
   "execution_count": null,
   "metadata": {},
   "outputs": [],
   "source": []
  }
 ],
 "metadata": {
  "kernelspec": {
   "display_name": "Python 3",
   "language": "python",
   "name": "python3"
  },
  "language_info": {
   "codemirror_mode": {
    "name": "ipython",
    "version": 3
   },
   "file_extension": ".py",
   "mimetype": "text/x-python",
   "name": "python",
   "nbconvert_exporter": "python",
   "pygments_lexer": "ipython3",
   "version": "3.7.3"
  }
 },
 "nbformat": 4,
 "nbformat_minor": 4
}
